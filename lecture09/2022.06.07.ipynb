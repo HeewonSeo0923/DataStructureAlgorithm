{
 "cells": [
  {
   "cell_type": "code",
   "execution_count": 1,
   "id": "480911ea",
   "metadata": {},
   "outputs": [],
   "source": [
    "# 이진 검색 트리 구현하기\n",
    "\n",
    "from __future__ import annotations\n",
    "from typing import Any, Type\n",
    "\n",
    "class Node:\n",
    "    '''이진 검색 트리의 노드'''\n",
    "    def __init__(self, key: Any, value: Any, left: Node = None,\n",
    "                right: Node = None):\n",
    "        '''생성자(constructor)'''\n",
    "        self.key = key         # 키\n",
    "        self.value = value     # 깂\n",
    "        self.left = left       # 왼쪽 포인터\n",
    "        self.right = right     # 오른쪽 포인터\n",
    "\n",
    "class BinarySearch:\n",
    "    '''이진 검색 트리'''\n",
    "\n",
    "    def __init__(self):\n",
    "        '''초기화'''\n",
    "        self.root = None       # 루트\n",
    "    def search(self, key: Any) -> Any:\n",
    "        '''키가 key인 노드 검색'''\n",
    "        p = self.root          # 루트에 주목\n",
    "        while True:\n",
    "            if p is None:      # 더 이상 진행할 수 없으면\n",
    "                return None    # 검색 실패\n",
    "            if key == p.key:   # key와 노드 p의 키가 같다면\n",
    "                return p.value # 검색 성공\n",
    "            elif key < p.key:  # key 쪽이 작다면\n",
    "                p = p.left     # 왼쪽 서브트리에서 검색\n",
    "            else:              # key 쪽이 크면\n",
    "                p = p.right    # 오른쪽 서브트리에서 검색\n",
    "    def add(self, key: Any, Value: Any) -> bool:\n",
    "    '''키가 key 이고 값이 value인 노드 삽입'''\n",
    "\n",
    "    def addNode(node: Node, key: Any, value: Any) -> None:\n",
    "        '''node를 루트로 하는 서브트리에 키가 key이고 값아 value인 노드 삽입'''\n",
    "        if key"
   ]
  },
  {
   "cell_type": "code",
   "execution_count": 3,
   "outputs": [],
   "source": [],
   "metadata": {
    "collapsed": false,
    "pycharm": {
     "name": "#%%\n"
    }
   }
  },
  {
   "cell_type": "code",
   "execution_count": 3,
   "outputs": [],
   "source": [],
   "metadata": {
    "collapsed": false,
    "pycharm": {
     "name": "#%%\n"
    }
   }
  }
 ],
 "metadata": {
  "kernelspec": {
   "display_name": "Python 3 (ipykernel)",
   "language": "python",
   "name": "python3"
  },
  "language_info": {
   "codemirror_mode": {
    "name": "ipython",
    "version": 3
   },
   "file_extension": ".py",
   "mimetype": "text/x-python",
   "name": "python",
   "nbconvert_exporter": "python",
   "pygments_lexer": "ipython3",
   "version": "3.9.7"
  }
 },
 "nbformat": 4,
 "nbformat_minor": 5
}