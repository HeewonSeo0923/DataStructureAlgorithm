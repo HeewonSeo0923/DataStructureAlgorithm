{
 "cells": [
  {
   "cell_type": "code",
   "execution_count": null,
   "id": "480911ea",
   "metadata": {},
   "outputs": [],
   "source": [
    "# 이진 검색 트리 구현하기\n",
    "\n",
    "from __future__ import annotations\n",
    "from typing import Any, Type\n",
    "\n",
    "class Node:\n",
    "    '''이진 검색 트리의 노드'''\n",
    "    def __init__(self, key: Any, value: Any, left: Node = None,\n",
    "                right: Node = None):\n",
    "        '''생성자(constructor)'''\n",
    "        self.key = key         # 키\n",
    "        self.value = value     # 깂\n",
    "        self.left = left       # 왼쪽 포인터\n",
    "        self.right = right     # 오른쪽 포인터\n",
    "        \n",
    "class BinarySearch:\n",
    "    '''이진 검색 트리'''\n",
    "    self.root = None           # 루트"
   ]
  }
 ],
 "metadata": {
  "kernelspec": {
   "display_name": "Python 3 (ipykernel)",
   "language": "python",
   "name": "python3"
  },
  "language_info": {
   "codemirror_mode": {
    "name": "ipython",
    "version": 3
   },
   "file_extension": ".py",
   "mimetype": "text/x-python",
   "name": "python",
   "nbconvert_exporter": "python",
   "pygments_lexer": "ipython3",
   "version": "3.9.7"
  }
 },
 "nbformat": 4,
 "nbformat_minor": 5
}
