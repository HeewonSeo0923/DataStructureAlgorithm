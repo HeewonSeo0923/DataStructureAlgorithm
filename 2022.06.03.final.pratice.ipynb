{
 "cells": [
  {
   "cell_type": "code",
   "execution_count": 1,
   "id": "e8ddbfaa",
   "metadata": {},
   "outputs": [
    {
     "name": "stdout",
     "output_type": "stream",
     "text": [
      "버블 정렬을 수행합니다.\n",
      "원소 수를 입력하세요.: 7\n",
      "x[0]: 6\n",
      "x[1]: 4\n",
      "x[2]: 3\n",
      "x[3]: 7\n",
      "x[4]: 1\n",
      "x[5]: 9\n",
      "x[6]: 8\n",
      "오름차순으로 정렬했습니다.\n",
      "x[0] = 1\n",
      "x[1] = 3\n",
      "x[2] = 4\n",
      "x[3] = 6\n",
      "x[4] = 7\n",
      "x[5] = 8\n",
      "x[6] = 9\n"
     ]
    }
   ],
   "source": [
    "# 버블 정렬 알고리즘 구현하기\n",
    "\n",
    "from typing import MutableSequence\n",
    "\n",
    "def bubbleSort(a: MutableSequence) -> None:\n",
    "    '''버블 정렬'''\n",
    "    n = len(a)\n",
    "    for i in range (n-1):\n",
    "        for j in range(n-1, i, -1):\n",
    "            if a[j - 1] > a[j]:\n",
    "                a[j - 1], a[j] = a[j], a[j - 1]\n",
    "                \n",
    "if __name__ == '__main__':\n",
    "    print('버블 정렬을 수행합니다.')\n",
    "    num = int(input('원소 수를 입력하세요.: '))\n",
    "    x = [None] * num   # 원소 수가 num인 배열을 생성한다\n",
    "    \n",
    "    for i in range(num):\n",
    "        x[i] = int(input(f'x[{i}]: '))\n",
    "        \n",
    "    bubbleSort(x)   # 배열 x를 생성한다\n",
    "    \n",
    "    print('오름차순으로 정렬했습니다.')\n",
    "    for i in range(num):\n",
    "        print(f'x[{i}] = {x[i]}')"
   ]
  },
  {
   "cell_type": "code",
   "execution_count": 4,
   "id": "721515f4",
   "metadata": {},
   "outputs": [
    {
     "name": "stdout",
     "output_type": "stream",
     "text": [
      "버블 정렬을 수행합니다.\n",
      "패스 1\n",
      " 6   4   3   7   1   9 + 8\n",
      " 6   4   3   7   1 - 8   9\n",
      " 6   4   3   7 + 1   8   9\n",
      " 6   4   3 + 1   7   8   9\n",
      " 6   4 + 1   3   7   8   9\n",
      " 6 + 1   4   3   7   8   9\n",
      " 1   6   4   3   7   8   9\n",
      "패스 2\n",
      " 1   6   4   3   7   8 - 9\n",
      " 1   6   4   3   7 - 8   9\n",
      " 1   6   4   3 - 7   8   9\n",
      " 1   6   4 + 3   7   8   9\n",
      " 1   6 + 3   4   7   8   9\n",
      " 1   3   6   4   7   8   9\n",
      "패스 3\n",
      " 1   3   6   4   7   8 - 9\n",
      " 1   3   6   4   7 - 8   9\n",
      " 1   3   6   4 - 7   8   9\n",
      " 1   3   6 + 4   7   8   9\n",
      " 1   3   4   6   7   8   9\n",
      "패스 4\n",
      " 1   3   4   6   7   8 - 9\n",
      " 1   3   4   6   7 - 8   9\n",
      " 1   3   4   6 - 7   8   9\n",
      " 1   3   4   6   7   8   9\n",
      "패스 5\n",
      " 1   3   4   6   7   8 - 9\n",
      " 1   3   4   6   7 - 8   9\n",
      " 1   3   4   6   7   8   9\n",
      "패스 6\n",
      " 1   3   4   6   7   8 - 9\n",
      " 1   3   4   6   7   8   9\n",
      "비교를 21번 했습니다.\n",
      "교환을 8번 했습니다.\n",
      "오름차순으로 정렬했습니다.\n",
      "x[0] = 1\n",
      "x[1] = 3\n",
      "x[2] = 4\n",
      "x[3] = 6\n",
      "x[4] = 7\n",
      "x[5] = 8\n",
      "x[6] = 9\n"
     ]
    }
   ],
   "source": [
    "# 버블 정렬 알고리즘을 구현하기 (정렬 과정을 출력한다)\n",
    "\n",
    "from typing import MutableSequence\n",
    "\n",
    "def bubble_sort_verbose(a: MutableSequence) -> None:\n",
    "    \"\"\"버블 정렬(정렬 과정을 출력)\"\"\"\n",
    "    ccnt = 0  # 비교 횟수\n",
    "    scnt = 0  # 교환 횟수\n",
    "    n = len(a)\n",
    "    for i in range(n - 1):\n",
    "        print(f'패스 {i + 1}')\n",
    "        for j in range(n - 1, i, -1):\n",
    "            for m in range(0, n - 1):\n",
    "               print(f'{a[m]:2}' + ('  ' if m != j - 1 else\n",
    "                                    ' +' if a[j - 1] > a[j] else ' -'),\n",
    "                                    end='')\n",
    "            print(f'{a[n - 1]:2}')\n",
    "            ccnt += 1\n",
    "            if a[j - 1] > a[j]:\n",
    "                scnt += 1\n",
    "                a[j - 1], a[j] = a[j], a[j - 1]\n",
    "        for m in range(0, n - 1):\n",
    "           print(f'{a[m]:2}', end='  ')\n",
    "        print(f'{a[n - 1]:2}')\n",
    "    print(f'비교를 {ccnt}번 했습니다.')\n",
    "    print(f'교환을 {scnt}번 했습니다.')\n",
    "\n",
    "if __name__ == '__main__':\n",
    "    print('버블 정렬을 수행합니다.')\n",
    "    num = int(input('원소 수를 입력하세요.: '))\n",
    "    x = [None] * num  # 원소 수가 num인 배열을 생성\n",
    "\n",
    "    for i in range(num):\n",
    "        x[i] = int(input(f'x[{i}]: '))\n",
    "\n",
    "    bubble_sort_verbose(x)  # 배열 x를 버블 정렬\n",
    "\n",
    "    print('오름차순으로 정렬했습니다.')\n",
    "    for i in range(num):\n",
    "        print(f'x[{i}] = {x[i]}')"
   ]
  },
  {
   "cell_type": "code",
   "execution_count": 7,
   "id": "9d19393e",
   "metadata": {},
   "outputs": [
    {
     "name": "stdout",
     "output_type": "stream",
     "text": [
      "버블 정렬을 합니다.\n",
      "오름차순으로 정렬했습니다.\n",
      "x[0] = 1\n",
      "x[1] = 3\n",
      "x[2] = 4\n",
      "x[3] = 6\n",
      "x[4] = 7\n",
      "x[5] = 8\n",
      "x[6] = 9\n"
     ]
    }
   ],
   "source": [
    "# 버블 정렬 구현하기 (알고리즘의 개선 1)\n",
    "\n",
    "from typing import MutableSequence\n",
    "\n",
    "def bubbleSort(a: MutableSequence) -> None:\n",
    "    '''버블 정렬(교환 횟수에 따른 중단)'''\n",
    "    n = len(a)\n",
    "    for i in range(n - 1):\n",
    "        exchng = 0   # 패스에서 교환 개수 카운트\n",
    "        for j in range(n - 1, i, -1):\n",
    "            if a[j - 1] > a[j]:\n",
    "                a[j - 1], a[j] = a[j], a[j - 1]\n",
    "                exchng += 1\n",
    "        if exchng == 0:\n",
    "            break\n",
    "\n",
    "if __name__ == '__main__':\n",
    "    print('버블 정렬을 합니다.')\n",
    "    num = int(input('원소 수를 입력하세요.: '))\n",
    "    x = [None] * num    # 원소 수 num인 배열을 생성\n",
    "\n",
    "    for i in range(num):\n",
    "        x[i] = int(input(f'x[{i}]: '))\n",
    "\n",
    "    bubbleSort(x)      # 배열 x를 버블 정렬\n",
    "\n",
    "    print('오름차순으로 정렬했습니다.')\n",
    "    for i in range(num):\n",
    "        print(f'x[{i}] = {x[i]}')"
   ]
  },
  {
   "cell_type": "code",
   "execution_count": 8,
   "metadata": {
    "collapsed": false,
    "pycharm": {
     "name": "#%%\n"
    }
   },
   "outputs": [
    {
     "name": "stdout",
     "output_type": "stream",
     "text": [
      "버블 정렬을 합니다.\n"
     ]
    },
    {
     "ename": "ValueError",
     "evalue": "invalid literal for int() with base 10: ''",
     "output_type": "error",
     "traceback": [
      "\u001b[1;31m---------------------------------------------------------------------------\u001b[0m",
      "\u001b[1;31mValueError\u001b[0m                                Traceback (most recent call last)",
      "Input \u001b[1;32mIn [8]\u001b[0m, in \u001b[0;36m<cell line: 17>\u001b[1;34m()\u001b[0m\n\u001b[0;32m     17\u001b[0m \u001b[38;5;28;01mif\u001b[39;00m \u001b[38;5;18m__name__\u001b[39m \u001b[38;5;241m==\u001b[39m \u001b[38;5;124m'\u001b[39m\u001b[38;5;124m__main__\u001b[39m\u001b[38;5;124m'\u001b[39m:\n\u001b[0;32m     18\u001b[0m     \u001b[38;5;28mprint\u001b[39m(\u001b[38;5;124m'\u001b[39m\u001b[38;5;124m버블 정렬을 합니다.\u001b[39m\u001b[38;5;124m'\u001b[39m)\n\u001b[1;32m---> 19\u001b[0m     num \u001b[38;5;241m=\u001b[39m \u001b[38;5;28;43mint\u001b[39;49m\u001b[43m(\u001b[49m\u001b[38;5;28;43minput\u001b[39;49m\u001b[43m(\u001b[49m\u001b[38;5;124;43m'\u001b[39;49m\u001b[38;5;124;43m원솟수를 입력하세요.: \u001b[39;49m\u001b[38;5;124;43m'\u001b[39;49m\u001b[43m)\u001b[49m\u001b[43m)\u001b[49m\n\u001b[0;32m     20\u001b[0m     x \u001b[38;5;241m=\u001b[39m [\u001b[38;5;28;01mNone\u001b[39;00m] \u001b[38;5;241m*\u001b[39m num    \u001b[38;5;66;03m# 원솟수 num인 배열을 생성\u001b[39;00m\n\u001b[0;32m     22\u001b[0m     \u001b[38;5;28;01mfor\u001b[39;00m i \u001b[38;5;129;01min\u001b[39;00m \u001b[38;5;28mrange\u001b[39m(num):\n",
      "\u001b[1;31mValueError\u001b[0m: invalid literal for int() with base 10: ''"
     ]
    }
   ],
   "source": [
    "# 버블 정렬 (알고리즘의 개선 2)\n",
    "\n",
    "from typing import MutableSequence\n",
    "\n",
    "def bubbleSort2(a: MutableSequence) -> None:\n",
    "    '''버블 정렬(스캔 범위를 제한한다)'''\n",
    "    n = len(a)\n",
    "    k = 0\n",
    "    while k < n - 1:\n",
    "        last = n - 1\n",
    "        for j in range(n - 1, k, -1):\n",
    "            if a[j - 1] > a[j]:\n",
    "                a[j - 1], a[j] = a[j], a[j - 1]\n",
    "                last = j\n",
    "        k = last\n",
    "\n",
    "if __name__ == '__main__':\n",
    "    print('버블 정렬을 합니다.')\n",
    "    num = int(input('원솟수를 입력하세요.: '))\n",
    "    x = [None] * num    # 원솟수 num인 배열을 생성\n",
    "\n",
    "    for i in range(num):\n",
    "        x[i] = int(input(f'x[{i}] : '))\n",
    "\n",
    "    bubble_sort(x)      # 배열 x를 버블 정렬\n",
    "\n",
    "    print('오름차순으로 정렬했습니다.')\n",
    "    for i in range(num):\n",
    "        print(f'x[{i}] = {x[i]}')"
   ]
  },
  {
   "cell_type": "code",
   "execution_count": null,
   "metadata": {
    "collapsed": false,
    "pycharm": {
     "name": "#%%\n"
    }
   },
   "outputs": [],
   "source": [
    "# 셰이커 정렬 알고리즘 구현하기\n",
    "\n",
    "from typing import MutableSequence\n",
    "\n",
    "def shakerSort(a: MutableSequence) -> None:\n",
    "    '''쉐이커 정렬'''\n",
    "    left = 0\n",
    "    right = len(a) - 1\n",
    "    last = right"
   ]
  },
  {
   "cell_type": "code",
   "execution_count": 1,
   "metadata": {
    "collapsed": false,
    "pycharm": {
     "name": "#%%\n"
    }
   },
   "outputs": [
    {
     "name": "stdout",
     "output_type": "stream",
     "text": [
      "sqrt of15 :3.87298\n",
      "e :2.71828183\n",
      "pi :3.14159265\n",
      "sin(pi/3):0.86602540\n",
      "cos(pi/3):0.50000000\n",
      "11.31370850,11.31370850,11.31370850\n"
     ]
    }
   ],
   "source": [
    "import math\n",
    "value=15\n",
    "sqrtValue =math.sqrt(value)\n",
    "print(f'sqrt of{value} :{sqrtValue:.5f}')\n",
    "print(f'e :{math.e:.8f}')\n",
    "print(f'pi :{math.pi:.8f}')\n",
    "d=math.pi/3\n",
    "sinValue =math.sin(d)\n",
    "cosValue =math.cos(d)\n",
    "print(f'sin(pi/3):{sinValue:.8f}')\n",
    "print(f'cos(pi/3):{cosValue:.8f}')\n",
    "a=2**3.5\n",
    "b=pow(2,3.5)\n",
    "c=math.pow(2,3.5)\n",
    "print(f'{a:.8f},{b:.8f},{c:.8f}')"
   ]
  },
  {
   "cell_type": "code",
   "execution_count": 3,
   "metadata": {
    "collapsed": false,
    "pycharm": {
     "name": "#%%\n"
    }
   },
   "outputs": [],
   "source": [
    "def myMax(num1, num2):\n",
    "    if num1 > num2 :\n",
    "        result = num1\n",
    "    else:\n",
    "        result = num2\n",
    "\n",
    "    return result"
   ]
  },
  {
   "cell_type": "code",
   "execution_count": 5,
   "metadata": {
    "collapsed": false,
    "pycharm": {
     "name": "#%%\n"
    }
   },
   "outputs": [
    {
     "name": "stdout",
     "output_type": "stream",
     "text": [
      "The maximum between 5 and 2 is 5\n"
     ]
    }
   ],
   "source": [
    "x = 5\n",
    "y = 2\n",
    "k = myMax(x, y)\n",
    "print(f'The maximum between {x} and {y} is {k}')"
   ]
  },
  {
   "cell_type": "code",
   "execution_count": 1,
   "metadata": {
    "collapsed": false,
    "pycharm": {
     "name": "#%%\n"
    }
   },
   "outputs": [],
   "source": [
    "lst = [3, 5, 1, 7, 2.5]"
   ]
  },
  {
   "cell_type": "code",
   "execution_count": 2,
   "id": "9543c6da",
   "metadata": {},
   "outputs": [
    {
     "name": "stdout",
     "output_type": "stream",
     "text": [
      "5\n"
     ]
    }
   ],
   "source": [
    "print(len(lst))"
   ]
  },
  {
   "cell_type": "code",
   "execution_count": 3,
   "id": "faaefea1",
   "metadata": {},
   "outputs": [
    {
     "name": "stdout",
     "output_type": "stream",
     "text": [
      "18.5\n"
     ]
    }
   ],
   "source": [
    "print(sum(lst))"
   ]
  },
  {
   "cell_type": "code",
   "execution_count": 4,
   "id": "38de425c",
   "metadata": {},
   "outputs": [
    {
     "name": "stdout",
     "output_type": "stream",
     "text": [
      "7\n"
     ]
    }
   ],
   "source": [
    "print(max(lst))"
   ]
  },
  {
   "cell_type": "code",
   "execution_count": 5,
   "id": "dc645ef4",
   "metadata": {},
   "outputs": [
    {
     "name": "stdout",
     "output_type": "stream",
     "text": [
      "1\n"
     ]
    }
   ],
   "source": [
    "print(min(lst))"
   ]
  },
  {
   "cell_type": "code",
   "execution_count": 6,
   "id": "11f97053",
   "metadata": {},
   "outputs": [],
   "source": [
    "pets = ['turtle', 'cat', 'fish', 'Dingo']"
   ]
  },
  {
   "cell_type": "code",
   "execution_count": 7,
   "id": "795b780c",
   "metadata": {},
   "outputs": [],
   "source": [
    "newPats = sorted(pets)"
   ]
  },
  {
   "cell_type": "code",
   "execution_count": 8,
   "id": "00350b3f",
   "metadata": {},
   "outputs": [
    {
     "name": "stdout",
     "output_type": "stream",
     "text": [
      "['turtle', 'cat', 'fish', 'Dingo']\n"
     ]
    }
   ],
   "source": [
    "print(pets)"
   ]
  },
  {
   "cell_type": "code",
   "execution_count": 9,
   "id": "8ad1f595",
   "metadata": {},
   "outputs": [
    {
     "name": "stdout",
     "output_type": "stream",
     "text": [
      "['Dingo', 'cat', 'fish', 'turtle']\n"
     ]
    }
   ],
   "source": [
    "print(newPats)"
   ]
  },
  {
   "cell_type": "code",
   "execution_count": 10,
   "id": "f181ccc1",
   "metadata": {},
   "outputs": [],
   "source": [
    "newPats = sorted(pets, key=str.lower)"
   ]
  },
  {
   "cell_type": "code",
   "execution_count": 11,
   "id": "b14bf1bd",
   "metadata": {},
   "outputs": [
    {
     "name": "stdout",
     "output_type": "stream",
     "text": [
      "['cat', 'Dingo', 'fish', 'turtle']\n"
     ]
    }
   ],
   "source": [
    "print(newPats)"
   ]
  },
  {
   "cell_type": "code",
   "execution_count": 12,
   "id": "dcee6a34",
   "metadata": {},
   "outputs": [],
   "source": [
    "a = ['bee', 'moth']"
   ]
  },
  {
   "cell_type": "code",
   "execution_count": 13,
   "id": "a5ed1bc6",
   "metadata": {},
   "outputs": [
    {
     "name": "stdout",
     "output_type": "stream",
     "text": [
      "['bee', 'moth']\n"
     ]
    }
   ],
   "source": [
    "print(a)"
   ]
  },
  {
   "cell_type": "code",
   "execution_count": 14,
   "id": "298f4a92",
   "metadata": {},
   "outputs": [],
   "source": [
    "a.append('ant')"
   ]
  },
  {
   "cell_type": "code",
   "execution_count": 15,
   "id": "78287d5a",
   "metadata": {},
   "outputs": [
    {
     "data": {
      "text/plain": [
       "['bee', 'moth', 'ant']"
      ]
     },
     "execution_count": 15,
     "metadata": {},
     "output_type": "execute_result"
    }
   ],
   "source": [
    "a"
   ]
  },
  {
   "cell_type": "code",
   "execution_count": 19,
   "id": "7abd4cd9",
   "metadata": {},
   "outputs": [],
   "source": [
    "a = ['bee', 'moth']\n",
    "a.insert(0, 'ant')"
   ]
  },
  {
   "cell_type": "code",
   "execution_count": 20,
   "id": "bbc94ec7",
   "metadata": {},
   "outputs": [
    {
     "data": {
      "text/plain": [
       "['ant', 'bee', 'moth']"
      ]
     },
     "execution_count": 20,
     "metadata": {},
     "output_type": "execute_result"
    }
   ],
   "source": [
    "a"
   ]
  },
  {
   "cell_type": "code",
   "execution_count": 21,
   "id": "66bacbdb",
   "metadata": {},
   "outputs": [],
   "source": [
    "a.insert(2, 'fly')"
   ]
  },
  {
   "cell_type": "code",
   "execution_count": 22,
   "id": "33a3ab96",
   "metadata": {},
   "outputs": [
    {
     "data": {
      "text/plain": [
       "['ant', 'bee', 'fly', 'moth']"
      ]
     },
     "execution_count": 22,
     "metadata": {},
     "output_type": "execute_result"
    }
   ],
   "source": [
    "a"
   ]
  },
  {
   "cell_type": "code",
   "execution_count": 25,
   "id": "b57c179d",
   "metadata": {},
   "outputs": [
    {
     "name": "stdout",
     "output_type": "stream",
     "text": [
      "1.2.X.4.5.X.7.8.X.10.11.12.X.14.15.X.17.18.X.20.21.22.X.24.25.X.27.28.X.X.X."
     ]
    }
   ],
   "source": [
    "n=int(input(\"369게임을 시작합니다. 숫자를 입력해주세요:\"))\n",
    "for i in range(1, n+1) :\n",
    "  s=str(i)\n",
    "  count=0\n",
    "  for x in s:\n",
    "    if (x=='3') or (x=='6') or (x=='9'):\n",
    "      count +=1\n",
    "  if count == 0:\n",
    "    print(i, end='.')\n",
    "  else:\n",
    "    print(count*'X', end='.')"
   ]
  },
  {
   "cell_type": "code",
   "execution_count": null,
   "id": "f7163355",
   "metadata": {},
   "outputs": [],
   "source": []
  }
 ],
 "metadata": {
  "interpreter": {
   "hash": "c6a00425f0716bae14950c8cdbc40daa736263caaaa0610752c60b0b499a1d42"
  },
  "kernelspec": {
   "display_name": "Python 3.9.7 ('base')",
   "language": "python",
   "name": "python3"
  },
  "language_info": {
   "codemirror_mode": {
    "name": "ipython",
    "version": 3
   },
   "file_extension": ".py",
   "mimetype": "text/x-python",
   "name": "python",
   "nbconvert_exporter": "python",
   "pygments_lexer": "ipython3",
   "version": "3.9.7"
  }
 },
 "nbformat": 4,
 "nbformat_minor": 5
}
