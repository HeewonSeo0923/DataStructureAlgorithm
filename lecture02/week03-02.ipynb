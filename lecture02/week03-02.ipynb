{
 "cells": [
  {
   "cell_type": "code",
   "execution_count": 3,
   "metadata": {
    "collapsed": true
   },
   "outputs": [
    {
     "name": "stdout",
     "output_type": "stream",
     "text": [
      "배열의 최댓값을 구합니다.\n",
      "최댓값은 2입니다\n"
     ]
    }
   ],
   "source": [
    "# 시퀀스 원소의 최댓값 출력하기\n",
    "\n",
    "from typing import Any, Sequence\n",
    "# 지정된 배열에서 최댓값을 구하는 함수다\n",
    "def max_of(a: Sequence) -> Any:\n",
    "    '''시퀀스형 a원소의 최댓값을 반환'''\n",
    "    maximum = a[0]\n",
    "    for i in range(1, len(a)):\n",
    "        if a[i] > maximum :\n",
    "            maximum = a[i]\n",
    "        return maximum\n",
    "## 여기 꼭 이해하고 자기 오늘 프입 교안 다시 봐\n",
    "if __name__ == '__main__':\n",
    "    print('배열의 최댓값을 구합니다.')\n",
    "    num = int(input('원소 수를 입력하세요: '))\n",
    "    x = [None] * num # 원소 수가 num인 리스트를 생성한다\n",
    "\n",
    "    for i in range(num):\n",
    "        x[i] = int(input(f'x[{i}]값을 입력하세요: '))\n",
    "\n",
    "    print(f'최댓값은 {max_of(x)}입니다')\n",
    "    # 들여쓰기 생각 좀 대가리 굴리면서 해봐 왜 저 위에 값에 들여쓰기 하냐 아오"
   ]
  },
  {
   "cell_type": "code",
   "execution_count": 1,
   "outputs": [
    {
     "name": "stdout",
     "output_type": "stream",
     "text": [
      "배열의 최댓값을 구합니다.\n",
      "주의: \"End\"를 입력하면 종료합니다.\n",
      "4개를 입력했습니다.\n",
      "최댓값은 2입니다.\n"
     ]
    }
   ],
   "source": [
    "# 배열 원소의 최댓값을 구해서 출력하기  (함숫값 입력받음)\n",
    "## 불러오기 매우 중요 매우매우매우매우\n",
    "from max import max_of #py 파일 만들어서 해결함. 따로 만들기.\n",
    "\n",
    "print('배열의 최댓값을 구합니다.')\n",
    "print('주의: \"End\"를 입력하면 종료합니다.')\n",
    "\n",
    "n = 0\n",
    "x = []\n",
    "\n",
    "while True: ## 무한반복문\n",
    "    s = input(f'[{n}]의 값을 입력하세요.: ') # 이 경우에는 문자형임. 변환 필요\n",
    "    if s == 'End' :\n",
    "        break ## while문이기 때문에 break가 있어야 한다.\n",
    "    x.append(int(s))\n",
    "    n += 1\n",
    "\n",
    "print(f'{n}개를 입력했습니다.')\n",
    "print(f'최댓값은 {max_of(x)}입니다.')"
   ],
   "metadata": {
    "collapsed": false,
    "pycharm": {
     "name": "#%%\n"
    }
   }
  },
  {
   "cell_type": "code",
   "execution_count": 7,
   "outputs": [
    {
     "name": "stdout",
     "output_type": "stream",
     "text": [
      "난수의 최댓값을 구합니다.\n",
      "[92, 67, 57, 29, 59]\n",
      "이 가운데 최댓값은 92입니다.\n"
     ]
    }
   ],
   "source": [
    "# 배열 원소의 최댓값을 구해 출력 (원솟값 난수 생성)\n",
    "\n",
    "import random\n",
    "from max import max_of\n",
    "\n",
    "print('난수의 최댓값을 구합니다.')\n",
    "num = int(input('난수의 개수를 입력하세요.: '))\n",
    "lo = int(input('난수의 최솟값을 입력하세요.: '))\n",
    "hi = int(input('난수의 최댓값을 입력하세요.: '))\n",
    "x = [None] * num\n",
    "\n",
    "for i in range(num):\n",
    "    x[i] = random.randint(lo,hi) ## lo <= a <= hi\n",
    "\n",
    "print(f'{(x)}')\n",
    "print(f'이 가운데 최댓값은 {max_of(x)}입니다.')"
   ],
   "metadata": {
    "collapsed": false,
    "pycharm": {
     "name": "#%%\n"
    }
   }
  },
  {
   "cell_type": "code",
   "execution_count": 2,
   "outputs": [
    {
     "name": "stdout",
     "output_type": "stream",
     "text": [
      "10진수를 n진수로 변환합니다.\n",
      "2진수로는 11101입니다.\n"
     ]
    }
   ],
   "source": [
    "# 10진수 정수값을 입력받아 2-36 진수로 변환하여 출력하기\n",
    "\n",
    "def card_conv(x: int, r: int) -> str:\n",
    "    '''정수값 x를 r진수로 변환한 뒤 그 수를 나타내는 문자열로 반환'''\n",
    "\n",
    "    d = '' # 변환 후\n",
    "    dchar = '0123456789ABCDEFGHIJKLMNOPQRSTUVWSYZ'\n",
    "\n",
    "    while x > 0:\n",
    "        d += dchar[x%r]\n",
    "        x //= r\n",
    "\n",
    "    return  d[::-1]   # 역순출력\n",
    "\n",
    "\n",
    "\n",
    "if __name__ == '__main__':\n",
    "    print('10진수를 n진수로 변환합니다.')\n",
    "\n",
    "    while True:\n",
    "        while True:\n",
    "            no = int(input('변환할 값으로 음이 아닌 정수로 입력하세요.: '))\n",
    "            if no > 0 :\n",
    "                break\n",
    "\n",
    "        while True:\n",
    "            cd = int(input('어떤 진수로 변환할까요?: '))\n",
    "            if 2 <= cd <= 36:\n",
    "                break\n",
    "\n",
    "        print(f'{cd}진수로는 {card_conv(no, cd)}입니다.')\n",
    "\n",
    "        retry = input('한번 더 변환할까요?(Y ... 예 / N ... 아니오):')\n",
    "        if retry in {'N', 'n'}:\n",
    "            break"
   ],
   "metadata": {
    "collapsed": false,
    "pycharm": {
     "name": "#%%\n"
    }
   }
  },
  {
   "cell_type": "code",
   "execution_count": 3,
   "outputs": [
    {
     "data": {
      "text/plain": "218"
     },
     "execution_count": 3,
     "metadata": {},
     "output_type": "execute_result"
    }
   ],
   "source": [],
   "metadata": {
    "collapsed": false,
    "pycharm": {
     "name": "#%%\n"
    }
   }
  },
  {
   "cell_type": "code",
   "execution_count": null,
   "outputs": [],
   "source": [],
   "metadata": {
    "collapsed": false,
    "pycharm": {
     "name": "#%%\n"
    }
   }
  }
 ],
 "metadata": {
  "kernelspec": {
   "display_name": "Python 3",
   "language": "python",
   "name": "python3"
  },
  "language_info": {
   "codemirror_mode": {
    "name": "ipython",
    "version": 2
   },
   "file_extension": ".py",
   "mimetype": "text/x-python",
   "name": "python",
   "nbconvert_exporter": "python",
   "pygments_lexer": "ipython2",
   "version": "2.7.6"
  }
 },
 "nbformat": 4,
 "nbformat_minor": 0
}