{
 "cells": [
  {
   "cell_type": "code",
   "execution_count": null,
   "metadata": {
    "collapsed": true
   },
   "outputs": [],
   "source": [
    "# 학생 5명의 시험 점수를 입력받아 합계와 평균을 출력하기\n",
    "\n",
    "print('학생 그룹의 점수의 합계와 평균을 구합니다.')\n",
    "\n",
    "s1 = int(input('1번 학생의 점수를 입력하세요.:'))\n",
    "s2 = int(input('2번 학생의 점수를 입력하세요.:'))\n",
    "s3 = int(input('3번 학생의 점수를 입력하세요.:'))\n",
    "s4 = int(input('4번 학생의 점수를 입력하세요.:'))\n",
    "s5 = int(input('5번 학생의 점수를 입력하세요.:'))\n",
    "\n",
    "t = 0\n",
    "t += s1\n",
    "t += s2\n",
    "t += s3\n",
    "t += s4\n",
    "t += s5\n",
    "\n",
    "print(f'합계는 {t}점 입니다.')\n",
    "print(f'평균은 {t/5}점 입니다.')\n",
    "\n",
    "# 요구사항 : 학생수 변경, 특정 학생 점수 확인, 최저 최고점 구하기"
   ]
  },
  {
   "cell_type": "code",
   "execution_count": 1,
   "outputs": [],
   "source": [
    "list01 = []\n",
    "list02 = [1,2,3]\n",
    "list03 = ['a', 'b', 'c']"
   ],
   "metadata": {
    "collapsed": false,
    "pycharm": {
     "name": "#%%\n"
    }
   }
  },
  {
   "cell_type": "code",
   "execution_count": null,
   "outputs": [],
   "source": [
    "list04 = list()\n",
    "list05 = list('ABC')\n",
    ";"
   ],
   "metadata": {
    "collapsed": false,
    "pycharm": {
     "name": "#%%\n"
    }
   }
  },
  {
   "cell_type": "code",
   "execution_count": 5,
   "outputs": [
    {
     "name": "stdout",
     "output_type": "stream",
     "text": [
      "배열의 최댓값을 구합니다.\n",
      "최댓값은 456입니다\n"
     ]
    }
   ],
   "source": [
    "# 시퀀스 원소의 최댓값 출력하기\n",
    "\n",
    "from typing import Any, Sequence\n",
    "\n",
    "def max_of(a: Sequence) -> Any:\n",
    "    '''시퀀스형 a원소의 최댓값을 반환'''\n",
    "    maximum = a[0]\n",
    "    for i in range(1, len(a)):\n",
    "        if a[i] > maximum :\n",
    "            maximum = a[i]\n",
    "        return maximum\n",
    "\n",
    "if __name__ == '__main__':\n",
    "    print('배열의 최댓값을 구합니다.')\n",
    "    num = int(input('원소 수를 입력하세요: '))\n",
    "    x = [None] * num # 원소 수가 num인 리스트를 생성한다\n",
    "\n",
    "    for i in range(num):\n",
    "        x[i] = int(input(f'x[{i}]값을 입력하세요: '))\n",
    "\n",
    "    print(f'최댓값은 {max_of(x)}입니다')\n",
    "    # 들여쓰기 생각 좀 대가리 굴리면서 해봐 왜 저 위에 값에 들여쓰기 하냐 아오"
   ],
   "metadata": {
    "collapsed": false,
    "pycharm": {
     "name": "#%%\n"
    }
   }
  },
  {
   "cell_type": "code",
   "execution_count": null,
   "outputs": [],
   "source": [],
   "metadata": {
    "collapsed": false,
    "pycharm": {
     "name": "#%%\n"
    }
   }
  }
 ],
 "metadata": {
  "kernelspec": {
   "display_name": "Python 3",
   "language": "python",
   "name": "python3"
  },
  "language_info": {
   "codemirror_mode": {
    "name": "ipython",
    "version": 2
   },
   "file_extension": ".py",
   "mimetype": "text/x-python",
   "name": "python",
   "nbconvert_exporter": "python",
   "pygments_lexer": "ipython2",
   "version": "2.7.6"
  }
 },
 "nbformat": 4,
 "nbformat_minor": 0
}