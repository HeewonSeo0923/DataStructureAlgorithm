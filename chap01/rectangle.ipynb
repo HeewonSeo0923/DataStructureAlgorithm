{
 "cells": [
  {
   "cell_type": "code",
   "execution_count": 1,
   "id": "5b4e1abd",
   "metadata": {},
   "outputs": [
    {
     "name": "stdout",
     "output_type": "stream",
     "text": [
      "직사각형의 넓이를 입력하세요.: 32\n",
      "1 X 32\n",
      "2 X 16\n",
      "4 X 8\n"
     ]
    }
   ],
   "source": [
    "# 가로 세로 길이가 정수이고 넓이가 area인 직사각형에서 변의 길이 나열하기 (약수 나열 프로그램)\n",
    "\n",
    "area = int(input('직사각형의 넓이를 입력하세요.: '))\n",
    "\n",
    "for i in range(1, area+1):\n",
    "    if i*i > area : break # why? i가 가장 긴 변의 길이가 되어야 해서\n",
    "    if area % i: continue #나누어 떨어지면 ? - 약수지 !\n",
    "    print(f'{i} X {area //i}')"
   ]
  },
  {
   "cell_type": "code",
   "execution_count": null,
   "id": "221c0641",
   "metadata": {},
   "outputs": [],
   "source": []
  }
 ],
 "metadata": {
  "kernelspec": {
   "display_name": "Python 3 (ipykernel)",
   "language": "python",
   "name": "python3"
  },
  "language_info": {
   "codemirror_mode": {
    "name": "ipython",
    "version": 3
   },
   "file_extension": ".py",
   "mimetype": "text/x-python",
   "name": "python",
   "nbconvert_exporter": "python",
   "pygments_lexer": "ipython3",
   "version": "3.9.7"
  }
 },
 "nbformat": 4,
 "nbformat_minor": 5
}
