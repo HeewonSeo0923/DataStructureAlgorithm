{
 "cells": [
  {
   "cell_type": "code",
   "execution_count": 1,
   "id": "16dfb928",
   "metadata": {},
   "outputs": [
    {
     "name": "stdout",
     "output_type": "stream",
     "text": [
      "1 2 3 4 5 6 7 9 10 11 12 \n"
     ]
    }
   ],
   "source": [
    "# 1~12까지 8을 건너뛰고 출력하기\n",
    "\n",
    "for i in range(1,13):\n",
    "    if i == 8:\n",
    "        continue\n",
    "    print(i, end=' ')\n",
    "    \n",
    "print()"
   ]
  },
  {
   "cell_type": "code",
   "execution_count": null,
   "id": "92b9bb61",
   "metadata": {},
   "outputs": [],
   "source": []
  }
 ],
 "metadata": {
  "kernelspec": {
   "display_name": "Python 3 (ipykernel)",
   "language": "python",
   "name": "python3"
  },
  "language_info": {
   "codemirror_mode": {
    "name": "ipython",
    "version": 3
   },
   "file_extension": ".py",
   "mimetype": "text/x-python",
   "name": "python",
   "nbconvert_exporter": "python",
   "pygments_lexer": "ipython3",
   "version": "3.9.7"
  }
 },
 "nbformat": 4,
 "nbformat_minor": 5
}
