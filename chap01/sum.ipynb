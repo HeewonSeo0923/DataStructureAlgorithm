{
 "cells": [
  {
   "cell_type": "code",
   "execution_count": 1,
   "id": "025b37ff",
   "metadata": {},
   "outputs": [
    {
     "name": "stdout",
     "output_type": "stream",
     "text": [
      "a에서 b까지 정수의 합을 구합니다\n",
      "정수 a를 입력하세요. 8\n",
      "정수 b를 입력하세요. 3\n",
      "3부터 8까지 정수의 합은 33입니다.\n"
     ]
    }
   ],
   "source": [
    "#a부터 b까지 정수의 합 구하기 (for)\n",
    "\n",
    "print('a에서 b까지 정수의 합을 구합니다')\n",
    "a = int(input('정수 a를 입력하세요. '))\n",
    "b = int(input('정수 b를 입력하세요. '))\n",
    "\n",
    "if a > b:\n",
    "    a,b = b, a #오름차순 정렬을 위해 사용한다. \n",
    "    \n",
    "sum = 0\n",
    "for i in range(a, b+1):\n",
    "    sum += i\n",
    "    \n",
    "print(f'{a}부터 {b}까지 정수의 합은 {sum}입니다.')"
   ]
  },
  {
   "cell_type": "code",
   "execution_count": null,
   "id": "7e442a2a",
   "metadata": {},
   "outputs": [],
   "source": []
  },
  {
   "cell_type": "code",
   "execution_count": null,
   "id": "77fbd191",
   "metadata": {},
   "outputs": [],
   "source": []
  }
 ],
 "metadata": {
  "kernelspec": {
   "display_name": "Python 3 (ipykernel)",
   "language": "python",
   "name": "python3"
  },
  "language_info": {
   "codemirror_mode": {
    "name": "ipython",
    "version": 3
   },
   "file_extension": ".py",
   "mimetype": "text/x-python",
   "name": "python",
   "nbconvert_exporter": "python",
   "pygments_lexer": "ipython3",
   "version": "3.9.7"
  }
 },
 "nbformat": 4,
 "nbformat_minor": 5
}
