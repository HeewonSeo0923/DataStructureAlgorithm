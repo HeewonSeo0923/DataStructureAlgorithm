{
 "cells": [
  {
   "cell_type": "code",
   "execution_count": 1,
   "id": "a4556e38",
   "metadata": {},
   "outputs": [
    {
     "name": "stdout",
     "output_type": "stream",
     "text": [
      "1부터 n까지 정수의 합을 구합니다.\n",
      "n값을 입력하세요.: 5\n",
      "1부터 5까지 정수의 합은 15입니다.\n"
     ]
    }
   ],
   "source": [
    "#1부터 n까지의 정수의 합 구하기1(while문)\n",
    "\n",
    "print('1부터 n까지 정수의 합을 구합니다.')\n",
    "n = int(input('n값을 입력하세요.: '))\n",
    "\n",
    "sum = 0\n",
    "i = 1\n",
    "\n",
    "while i <= n:\n",
    "    sum += i\n",
    "    i +=1\n",
    "    \n",
    "print(f'1부터 {n}까지 정수의 합은 {sum}입니다.')"
   ]
  },
  {
   "cell_type": "code",
   "execution_count": null,
   "id": "dd4f81dc",
   "metadata": {},
   "outputs": [],
   "source": []
  }
 ],
 "metadata": {
  "kernelspec": {
   "display_name": "Python 3 (ipykernel)",
   "language": "python",
   "name": "python3"
  },
  "language_info": {
   "codemirror_mode": {
    "name": "ipython",
    "version": 3
   },
   "file_extension": ".py",
   "mimetype": "text/x-python",
   "name": "python",
   "nbconvert_exporter": "python",
   "pygments_lexer": "ipython3",
   "version": "3.9.7"
  }
 },
 "nbformat": 4,
 "nbformat_minor": 5
}
