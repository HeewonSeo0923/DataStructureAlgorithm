{
 "cells": [
  {
   "cell_type": "code",
   "execution_count": 4,
   "id": "9cfa0f99",
   "metadata": {},
   "outputs": [
    {
     "name": "stdout",
     "output_type": "stream",
     "text": [
      "난수의 개수를 입력하시오.: 55\n",
      "66 75 67 57 18 30 88 92 56 91 75 36 20 16 81 32 80 20 26 81 36 95 75 37 56 41 90 16 35 16 39 48 47 60 89 12 88 58 23 44 13 \n",
      "프로그램을 중단합니다.\n"
     ]
    }
   ],
   "source": [
    "# 10~99 사이의 난수 n개 생성하기 (13이 나오면 중단할 것)\n",
    "\n",
    "import random\n",
    "\n",
    "n = int(input('난수의 개수를 입력하시오.: '))\n",
    "\n",
    "for _ in range(n):\n",
    "    r = random.randint(10,99)\n",
    "    print(r, end=' ')\n",
    "    if r == 13:\n",
    "        print('\\n프로그램을 중단합니다.')\n",
    "        break\n",
    "else:\n",
    "    print('\\n난수 생성을 종료합니다')"
   ]
  },
  {
   "cell_type": "code",
   "execution_count": null,
   "id": "9d755d55",
   "metadata": {},
   "outputs": [],
   "source": []
  },
  {
   "cell_type": "code",
   "execution_count": null,
   "id": "c3fcb342",
   "metadata": {},
   "outputs": [],
   "source": []
  }
 ],
 "metadata": {
  "kernelspec": {
   "display_name": "Python 3 (ipykernel)",
   "language": "python",
   "name": "python3"
  },
  "language_info": {
   "codemirror_mode": {
    "name": "ipython",
    "version": 3
   },
   "file_extension": ".py",
   "mimetype": "text/x-python",
   "name": "python",
   "nbconvert_exporter": "python",
   "pygments_lexer": "ipython3",
   "version": "3.9.7"
  }
 },
 "nbformat": 4,
 "nbformat_minor": 5
}
