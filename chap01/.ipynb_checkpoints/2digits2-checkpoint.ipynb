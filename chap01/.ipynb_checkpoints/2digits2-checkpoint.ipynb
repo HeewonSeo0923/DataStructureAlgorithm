{
 "cells": [
  {
   "cell_type": "code",
   "execution_count": 2,
   "id": "a6dbe3ee",
   "metadata": {},
   "outputs": [
    {
     "name": "stdout",
     "output_type": "stream",
     "text": [
      "두 자리 양수를 입력하세요.\n",
      "값을 입력하세요.: 12\n",
      "입력받은 양수는 12입니다.\n"
     ]
    }
   ],
   "source": [
    "# 두 자리 양수(10~99)입력받기\n",
    "\n",
    "print('두 자리 양수를 입력하세요.')\n",
    "\n",
    "while True:\n",
    "    no = int(input('값을 입력하세요.: '))\n",
    "    if 10 <= no <= 99:\n",
    "        break\n",
    "        \n",
    "print(f'입력받은 양수는 {no}입니다.')"
   ]
  },
  {
   "cell_type": "code",
   "execution_count": null,
   "id": "6c01ae2d",
   "metadata": {},
   "outputs": [],
   "source": []
  }
 ],
 "metadata": {
  "kernelspec": {
   "display_name": "Python 3 (ipykernel)",
   "language": "python",
   "name": "python3"
  },
  "language_info": {
   "codemirror_mode": {
    "name": "ipython",
    "version": 3
   },
   "file_extension": ".py",
   "mimetype": "text/x-python",
   "name": "python",
   "nbconvert_exporter": "python",
   "pygments_lexer": "ipython3",
   "version": "3.9.7"
  }
 },
 "nbformat": 4,
 "nbformat_minor": 5
}
