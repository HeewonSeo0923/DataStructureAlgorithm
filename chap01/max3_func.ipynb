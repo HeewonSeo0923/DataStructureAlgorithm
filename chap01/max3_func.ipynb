{
 "cells": [
  {
   "cell_type": "code",
   "execution_count": 6,
   "id": "67477ccf",
   "metadata": {},
   "outputs": [
    {
     "name": "stdout",
     "output_type": "stream",
     "text": [
      "max3(3,2,1) = 3\n",
      "max3(3,2,2) = 3\n",
      "max3(3,1,2) = 3\n",
      "max3(3,2,3) = 3\n",
      "max3(2,1,3) = 3\n",
      "max3(3,3,2) = 3\n",
      "max3(3,3,3) = 3\n",
      "max3(2,2,3) = 3\n",
      "max3(2,3,1) = 3\n",
      "max3(2,3,2) = 3\n",
      "max3(1,3,2) = 3\n",
      "max3(2,3,3) = 3\n",
      "max3(1,2,3) = 3\n"
     ]
    }
   ],
   "source": [
    "# 세 정수의 최댓값 구하기\n",
    "\n",
    "def max3(a,b,c):\n",
    "    \"\"\"a,b,c의 최댓값을 구하여 반환\"\"\"\n",
    "    m = a\n",
    "    if b >m :m =b\n",
    "    if c >m: m=c\n",
    "    return m\n",
    "\n",
    "print(f'max3(3,2,1) = {max3(3,2,1)}')\n",
    "print(f'max3(3,2,2) = {max3(3,2,2)}')\n",
    "print(f'max3(3,1,2) = {max3(3,1,2)}')\n",
    "print(f'max3(3,2,3) = {max3(3,2,3)}')\n",
    "print(f'max3(2,1,3) = {max3(2,1,3)}')\n",
    "print(f'max3(3,3,2) = {max3(3,3,2)}')\n",
    "print(f'max3(3,3,3) = {max3(3,3,3)}')\n",
    "print(f'max3(2,2,3) = {max3(2,2,3)}')\n",
    "print(f'max3(2,3,1) = {max3(2,3,1)}')\n",
    "print(f'max3(2,3,2) = {max3(2,3,2)}')\n",
    "print(f'max3(1,3,2) = {max3(1,3,2)}')\n",
    "print(f'max3(2,3,3) = {max3(2,3,3)}')\n",
    "print(f'max3(1,2,3) = {max3(1,2,3)}')"
   ]
  },
  {
   "cell_type": "code",
   "execution_count": null,
   "id": "6bee9416",
   "metadata": {},
   "outputs": [],
   "source": []
  }
 ],
 "metadata": {
  "kernelspec": {
   "display_name": "Python 3 (ipykernel)",
   "language": "python",
   "name": "python3"
  },
  "language_info": {
   "codemirror_mode": {
    "name": "ipython",
    "version": 3
   },
   "file_extension": ".py",
   "mimetype": "text/x-python",
   "name": "python",
   "nbconvert_exporter": "python",
   "pygments_lexer": "ipython3",
   "version": "3.9.7"
  }
 },
 "nbformat": 4,
 "nbformat_minor": 5
}
