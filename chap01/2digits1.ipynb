{
 "cells": [
  {
   "cell_type": "code",
   "execution_count": 1,
   "id": "3cbfd354",
   "metadata": {},
   "outputs": [
    {
     "name": "stdout",
     "output_type": "stream",
     "text": [
      "두 자리 양수를 입력하세요.\n",
      "값을 입력하세요.: 9\n",
      "값을 입력하세요.: 456\n",
      "값을 입력하세요.: 23\n",
      "입력받은 양수는 23입니다.\n"
     ]
    }
   ],
   "source": [
    "# 두 자리 양수(10~99)입력받기\n",
    "\n",
    "print('두 자리 양수를 입력하세요.')\n",
    "\n",
    "while True:\n",
    "    no = int(input('값을 입력하세요.: '))\n",
    "    if no >= 10 and no <= 99:\n",
    "        break\n",
    "        \n",
    "print(f'입력받은 양수는 {no}입니다.')"
   ]
  },
  {
   "cell_type": "code",
   "execution_count": null,
   "id": "7e8e1686",
   "metadata": {},
   "outputs": [],
   "source": []
  }
 ],
 "metadata": {
  "kernelspec": {
   "display_name": "Python 3 (ipykernel)",
   "language": "python",
   "name": "python3"
  },
  "language_info": {
   "codemirror_mode": {
    "name": "ipython",
    "version": 3
   },
   "file_extension": ".py",
   "mimetype": "text/x-python",
   "name": "python",
   "nbconvert_exporter": "python",
   "pygments_lexer": "ipython3",
   "version": "3.9.7"
  }
 },
 "nbformat": 4,
 "nbformat_minor": 5
}
