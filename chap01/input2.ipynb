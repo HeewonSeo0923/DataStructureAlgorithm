{
 "cells": [
  {
   "cell_type": "code",
   "execution_count": null,
   "id": "b400510d",
   "metadata": {},
   "outputs": [],
   "source": [
    "# 이름을 입력받아 인사하기\n",
    "name = input('이름을 입력하세요.: ')\n",
    "print(f'안녕하세요? {name}님.')"
   ]
  },
  {
   "cell_type": "code",
   "execution_count": 1,
   "id": "06fef091",
   "metadata": {},
   "outputs": [
    {
     "data": {
      "text/plain": [
       "61"
      ]
     },
     "execution_count": 1,
     "metadata": {},
     "output_type": "execute_result"
    }
   ],
   "source": [
    "int('17') # 10진수 문자열을 10진수 정수형으로 변환(기본)\n",
    "\n",
    "int('0b110', 2) # 2진수 문자열을 10진수 정수형으로 변환\n",
    "\n",
    "int('0o75', 8) # 8진수 문자열을 10진수 정수형으로 변환\n",
    "\n",
    "int('13', 10) # 10진수 문자열을 10진수 정수형으로 변환\n",
    "\n",
    "int('0x3f', 16) # 16진수 문자열을 10진수 정수형으로 변환\n",
    "\n",
    "float('3.14') # 문자열을 실수형으로 변환"
   ]
  }
 ],
 "metadata": {
  "kernelspec": {
   "display_name": "Python 3 (ipykernel)",
   "language": "python",
   "name": "python3"
  },
  "language_info": {
   "codemirror_mode": {
    "name": "ipython",
    "version": 3
   },
   "file_extension": ".py",
   "mimetype": "text/x-python",
   "name": "python",
   "nbconvert_exporter": "python",
   "pygments_lexer": "ipython3",
   "version": "3.9.7"
  }
 },
 "nbformat": 4,
 "nbformat_minor": 5
}
