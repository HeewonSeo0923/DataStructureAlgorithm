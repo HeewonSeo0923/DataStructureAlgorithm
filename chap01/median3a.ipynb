{
 "cells": [
  {
   "cell_type": "code",
   "execution_count": null,
   "id": "0a6e6c2a",
   "metadata": {},
   "outputs": [],
   "source": [
    "# 세 정수를 입력받아 중앙값 구하기\n",
    "\n",
    "def med3(a, b, c):\n",
    "    '''a,b,c의 중앙값을 구하여 반환(다른방법)'''\n",
    "    if(b>=a and c<=a) or (b <=a and c>=a):\n",
    "        return a\n",
    "    elif (a>b and c<b) or (a<b and c>b):\n",
    "        return b\n",
    "    return c\n",
    "\n"
   ]
  }
 ],
 "metadata": {
  "kernelspec": {
   "display_name": "Python 3 (ipykernel)",
   "language": "python",
   "name": "python3"
  },
  "language_info": {
   "codemirror_mode": {
    "name": "ipython",
    "version": 3
   },
   "file_extension": ".py",
   "mimetype": "text/x-python",
   "name": "python",
   "nbconvert_exporter": "python",
   "pygments_lexer": "ipython3",
   "version": "3.9.7"
  }
 },
 "nbformat": 4,
 "nbformat_minor": 5
}
