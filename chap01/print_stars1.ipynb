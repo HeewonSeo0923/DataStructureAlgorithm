{
 "cells": [
  {
   "cell_type": "code",
   "execution_count": 1,
   "id": "7292403f",
   "metadata": {},
   "outputs": [
    {
     "name": "stdout",
     "output_type": "stream",
     "text": [
      "*을 출력합니다.\n",
      "몇 개를 출력할까요 ?: 14\n",
      "몇 개마다 줄바꿈할까요 ?: 5\n",
      "*****\n",
      "*****\n",
      "****\n"
     ]
    }
   ],
   "source": [
    "# *를 n개 출력하되 w개마다 줄바꿈하기\n",
    "\n",
    "print('*을 출력합니다.')\n",
    "n = int(input('몇 개를 출력할까요 ?: '))\n",
    "w = int(input('몇 개마다 줄바꿈할까요 ?: '))\n",
    "\n",
    "for i in range(n):    # n번 반복\n",
    "    print('*', end='')\n",
    "    if i % w == w-1: # 번 판단\n",
    "        print()      # 줄바꿈\n",
    "        \n",
    "if n % w :           # 1번 판단  \n",
    "    print()          # 줄바꿈"
   ]
  },
  {
   "cell_type": "code",
   "execution_count": null,
   "id": "8a555361",
   "metadata": {},
   "outputs": [],
   "source": []
  }
 ],
 "metadata": {
  "kernelspec": {
   "display_name": "Python 3 (ipykernel)",
   "language": "python",
   "name": "python3"
  },
  "language_info": {
   "codemirror_mode": {
    "name": "ipython",
    "version": 3
   },
   "file_extension": ".py",
   "mimetype": "text/x-python",
   "name": "python",
   "nbconvert_exporter": "python",
   "pygments_lexer": "ipython3",
   "version": "3.9.7"
  }
 },
 "nbformat": 4,
 "nbformat_minor": 5
}
