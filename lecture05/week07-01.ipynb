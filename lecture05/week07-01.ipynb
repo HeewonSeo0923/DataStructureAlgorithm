{
 "cells": [
  {
   "cell_type": "code",
   "execution_count": 1,
   "metadata": {
    "collapsed": true
   },
   "outputs": [
    {
     "name": "stdout",
     "output_type": "stream",
     "text": [
      "3의 팩토리얼은 6입니다\n"
     ]
    }
   ],
   "source": [
    "def facto(n):\n",
    "    if n > 0 :\n",
    "        return n * facto(n-1)\n",
    "    else:\n",
    "        return 1\n",
    "\n",
    "if __name__ == '__main__':\n",
    "    n = int(input(\"출력할 팩토리얼 값을 정의하세요.: \"))\n",
    "    print(f'{n}의 팩토리얼은 {facto(n)}입니다')"
   ]
  },
  {
   "cell_type": "code",
   "execution_count": 5,
   "outputs": [
    {
     "name": "stdout",
     "output_type": "stream",
     "text": [
      "두 정수값의 최대 공약수를 구합니다\n",
      "두 정숫값의 최대 공약수는 5입니다.\n"
     ]
    }
   ],
   "source": [
    "# 유클리드 호재법 -> 최대 공약수\n",
    "\n",
    "def gcd(x: int, y: int):\n",
    "    '''정숫값 x와 y의 최대 공약수 반환'''\n",
    "    if y == 0:\n",
    "        return x\n",
    "    else:\n",
    "        return gcd(y, x % y) # 나머지 -> 짧은 변 하고 남은거\n",
    "\n",
    "if __name__ == \"__main__\":\n",
    "    print('두 정수값의 최대 공약수를 구합니다')\n",
    "    x = int(input(\"첫번째 정숫값을 입력하세요.: \"))\n",
    "    y = int(input(\"두번째 정숫값을 입력하세요.: \"))\n",
    "\n",
    "    print(f'두 정숫값의 최대 공약수는 {gcd(x,y)}입니다.')"
   ],
   "metadata": {
    "collapsed": false,
    "pycharm": {
     "name": "#%%\n"
    }
   }
  },
  {
   "cell_type": "code",
   "execution_count": null,
   "outputs": [],
   "source": [],
   "metadata": {
    "collapsed": false,
    "pycharm": {
     "name": "#%%\n"
    }
   }
  }
 ],
 "metadata": {
  "kernelspec": {
   "display_name": "Python 3",
   "language": "python",
   "name": "python3"
  },
  "language_info": {
   "codemirror_mode": {
    "name": "ipython",
    "version": 2
   },
   "file_extension": ".py",
   "mimetype": "text/x-python",
   "name": "python",
   "nbconvert_exporter": "python",
   "pygments_lexer": "ipython2",
   "version": "2.7.6"
  }
 },
 "nbformat": 4,
 "nbformat_minor": 0
}