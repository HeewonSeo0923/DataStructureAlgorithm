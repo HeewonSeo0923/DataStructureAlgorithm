{
 "cells": [
  {
   "cell_type": "code",
   "execution_count": 1,
   "metadata": {
    "collapsed": true
   },
   "outputs": [],
   "source": [
    "# 1 - code\n",
    "\n",
    "from typing import MutableSequence\n",
    "\n",
    "def bubbleSort(a: MutableSequence) ->None:\n",
    "    left = 0\n",
    "    right = len(a) - 1\n",
    "    last = right\n",
    "    while left < right:\n",
    "        for j in range(right, left, -1):\n",
    "            if a[j - 1] > a[j]:\n",
    "                a[j - 1], a[j] = a[j], a[j - 1]\n",
    "                last = j\n",
    "        left = last\n",
    "\n",
    "        for j in range(left, right):\n",
    "            if a[j] > a[j + 1]:\n",
    "                a[j], a[j + 1] = a[j + 1], a[j]\n",
    "                last = j\n",
    "        right = last"
   ]
  },
  {
   "cell_type": "code",
   "execution_count": null,
   "outputs": [],
   "source": [
    "# 1- 버블 정렬이 정렬 알고리즘의 결과를 검사하기에 적합한 이유는 타 알고리즘과 달리 이미 정렬된 원소를 제외한 나머지만 비교 교환하도록 스캔범위를 제한할 수 있기 때문이다."
   ],
   "metadata": {
    "collapsed": false,
    "pycharm": {
     "name": "#%%\n"
    }
   }
  },
  {
   "cell_type": "code",
   "execution_count": null,
   "outputs": [],
   "source": [
    "# 2 - 선택 정렬의 장점은 가장 작은 원소부터 위치로 올바른 위치로 옮길수 있다는 장점이 있고, 타 알고리즘과 달리 앞부분부터 하나씩 확정되어 정렬된다는 특성이 있다."
   ],
   "metadata": {
    "collapsed": false,
    "pycharm": {
     "name": "#%%\n"
    }
   }
  }
 ],
 "metadata": {
  "kernelspec": {
   "display_name": "Python 3",
   "language": "python",
   "name": "python3"
  },
  "language_info": {
   "codemirror_mode": {
    "name": "ipython",
    "version": 2
   },
   "file_extension": ".py",
   "mimetype": "text/x-python",
   "name": "python",
   "nbconvert_exporter": "python",
   "pygments_lexer": "ipython2",
   "version": "2.7.6"
  }
 },
 "nbformat": 4,
 "nbformat_minor": 0
}