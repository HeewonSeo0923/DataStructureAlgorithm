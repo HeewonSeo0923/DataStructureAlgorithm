{
 "cells": [
  {
   "cell_type": "code",
   "execution_count": 6,
   "id": "63918be2",
   "metadata": {},
   "outputs": [],
   "source": [
    "# 1번 입력시\n",
    "\n",
    "msg = []\n",
    "\n",
    "def addData(f):  \n",
    "    msg.append(None)\n",
    "    kLen = len(msg)\n",
    "    msg[kLen - 1] = f"
   ]
  },
  {
   "cell_type": "code",
   "execution_count": 7,
   "id": "f80123f3",
   "metadata": {},
   "outputs": [],
   "source": [
    "# 2번 입력시\n",
    "\n",
    "def insertData(p, f):\n",
    "    if p < 0 or p > len(msg):\n",
    "        print('데이터의 삽입할 범위를 벗어났습니다.')\n",
    "        return\n",
    "        \n",
    "    msg.append(None)\n",
    "    klen = len(msg)\n",
    "    \n",
    "    for i in range(klen-1, p, -1):\n",
    "        msg[i] = msg[i-1]\n",
    "        msg[i-1] = None\n",
    "        \n",
    "    msg[p] = f"
   ]
  },
  {
   "cell_type": "code",
   "execution_count": 8,
   "id": "3736ec14",
   "metadata": {},
   "outputs": [],
   "source": [
    "# 3번 입력시\n",
    "\n",
    "def deleteData(p):\n",
    "    \n",
    "    if p < 0 or p > len(msg):\n",
    "        print('데이터를 삭제할 범위를 벗어났습니다.')\n",
    "        return\n",
    "    \n",
    "    klen = len(msg)\n",
    "    msg[p] = None\n",
    "    \n",
    "    for i in range(p + 1, klen):\n",
    "        msg[i-1] = msg[i]\n",
    "        msg[i] = None\n",
    "        \n",
    "    del(msg[klen-1])"
   ]
  },
  {
   "cell_type": "code",
   "execution_count": 9,
   "id": "6c13dc2f",
   "metadata": {},
   "outputs": [
    {
     "name": "stdout",
     "output_type": "stream",
     "text": [
      "['동']\n",
      "['동', '덕']\n",
      "['동', '덕', '여']\n",
      "['동', '덕', '여', '대']\n",
      "['동', '덕', '여', '대', '김']\n",
      "['동', '덕', '여', '대']\n",
      "['동', '덕', '여', '대']\n"
     ]
    }
   ],
   "source": [
    "\n",
    "while True:\n",
    "    select = int(input(\"다음을 선택하라. 1:추가, 2:삽입, 3:삭제, 4:종료\"))\n",
    "    \n",
    "    if select == 1:\n",
    "        n = input('추가할 데이터 --> ')\n",
    "        addData(n)\n",
    "        print(msg)\n",
    "\n",
    "    elif select == 2:\n",
    "        w = int(input('삽입할 위치 --> '))\n",
    "        n = input('추가할 데이터 --> ')\n",
    "        insertData(w, n)\n",
    "        print(msg)\n",
    "\n",
    "    elif select == 3:\n",
    "        w = int(input('삭제할 위치 --> '))\n",
    "        deleteData(w)\n",
    "        print(msg)\n",
    "\n",
    "    else:\n",
    "        print(msg)\n",
    "        break\n"
   ]
  },
  {
   "cell_type": "code",
   "execution_count": null,
   "id": "b1c8bfa9",
   "metadata": {},
   "outputs": [],
   "source": [
    "# 2 - 수업시간에 코딩한 KMP 알고리즘의 구동 방법을 설명하라\n",
    "\n",
    "def makeTable(pattern):   # 패턴 파악 위한 테이블 함수 제작\n",
    "    j = 0   # 접두사에 인덱스\n",
    "    for i in range(1, len(pattern)):\n",
    "        if j > 0 and pattern[i] != pattern[j]:   # 접두사의 인덱스가 가장 마지막 문자와 일치하지 않을때\n",
    "            j = 0   # 접두사 인덱스를 초기화시켜\n",
    "\n",
    "        if pattern[i] == pattern[j]:   # 현재 접두사 인덱스와 가장 마지막 인덱스 글자가 일치할때\n",
    "            j += 1   # 접두사의 인덱스를 증가시켜\n",
    "            table[i] = j   # 테이블에 접두사 인덱스 값을 저장시킨다\n",
    "\n",
    "def KMP(s, pattern):   # KMP 탐색 실행\n",
    "    makeTable(pattern)   # 접두사 접미사가 일치하는 인덱스 찾기 위해 테이블을 생성한다\n",
    "    j = 0   # 찾으려는 문자열의 인덱스 번호\n",
    "    for i in range(len(s)):\n",
    "        while j > 0 and s[i] != pattern[j]:   # 문자가 일치하지 않을때\n",
    "            j = table[j - 1]   # 테이블에 기록한 패턴의 인덱스로 수정해준다\n",
    "\n",
    "        if s[i] == pattern[j]:   # 문자가 일치하면\n",
    "            if j == len(pattern) - 1:   # 패턴과 일ㅊ하는 문자열이면\n",
    "                return True   # True를 돌려보낸다\n",
    "            else:\n",
    "                j += 1   # 전부 못찾았으면 다음 자리수 탐색 위해 인덱스를 증가시켜\n",
    "    return False   # 검색 실패\n",
    "\n",
    "s = input('문자열을 입력해주세요.: ')   # 전체 문자열 받는다\n",
    "pattern = input(\"찾으려는 문자열을 입력해주세요.: \")   # 찾고 싶은 문자열 받는다\n",
    "table = [0] * len(pattern)   # 문자열에서 접두사 접미사 일치하는 개수를 확인하는 리스트이다\n",
    "\n",
    "if KMP(s, pattern):   # KMP법 실행한다\n",
    "    print(\"탐색\")\n",
    "else:\n",
    "    print(\"실패\")"
   ]
  }
 ],
 "metadata": {
  "kernelspec": {
   "display_name": "Python 3 (ipykernel)",
   "language": "python",
   "name": "python3"
  },
  "language_info": {
   "codemirror_mode": {
    "name": "ipython",
    "version": 3
   },
   "file_extension": ".py",
   "mimetype": "text/x-python",
   "name": "python",
   "nbconvert_exporter": "python",
   "pygments_lexer": "ipython3",
   "version": "3.9.7"
  }
 },
 "nbformat": 4,
 "nbformat_minor": 5
}