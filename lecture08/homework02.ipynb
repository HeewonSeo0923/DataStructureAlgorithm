{
 "cells": [
  {
   "cell_type": "code",
   "execution_count": 2,
   "metadata": {
    "collapsed": true
   },
   "outputs": [
    {
     "name": "stdout",
     "output_type": "stream",
     "text": [
      "힙 정렬을 수행합니다(heapq.push와 heapq.pop를 사용).\n",
      "오름차순으로 정렬했습니다.\n",
      "x[0] = 1\n",
      "x[1] = 3\n",
      "x[2] = 4\n",
      "x[3] = 6\n",
      "x[4] = 7\n",
      "x[5] = 8\n",
      "x[6] = 9\n"
     ]
    }
   ],
   "source": [
    "# 1 - 힙정렬 구동방법을 설명하라\n",
    "\n",
    "import heapq   # heapq 모듈을 사용해 힙 정렬을 수행\n",
    "from typing import MutableSequence\n",
    "\n",
    "def heapSort(a: MutableSequence) -> None:\n",
    "    \"\"\"힙 정렬(heapq.push와 heapq.pop를 사용)\"\"\"\n",
    "\n",
    "    heap = []   # 빈 힙 제작 -> 여기에 힙정렬 저장해둠\n",
    "    for i in a:\n",
    "        heapq.heappush(heap, i)   # heap에 원소를 넣는다\n",
    "    for i in range(len(a)):\n",
    "        a[i] = heapq.heappop(heap)   # heap에 원소를 제거한다 + a에 순서대로 재정렬한다.\n",
    "\n",
    "if __name__ == '__main__':\n",
    "    print('힙 정렬을 수행합니다(heapq.push와 heapq.pop를 사용).')\n",
    "    num = int(input('원소 수를 입력하세요. : '))\n",
    "    x = [None] * num    # 원소 수가 num인 배열을 생성\n",
    "\n",
    "    for i in range(num):\n",
    "        x[i] = int(input(f'x[{i}] : '))   # 순서대로 배열 X의 원솟값을 넣는다\n",
    "\n",
    "    heapSort(x)        # 배열 x를 힙 정렬\n",
    "\n",
    "    print('오름차순으로 정렬했습니다.')\n",
    "    for i in range(num):   # 힙 정렬 결괏값 하나씩 출력하기\n",
    "        print(f'x[{i}] = {x[i]}')   # f스트링을 이용해 결괏값 출력하기"
   ]
  },
  {
   "cell_type": "code",
   "execution_count": 2,
   "metadata": {},
   "outputs": [
    {
     "name": "stdout",
     "output_type": "stream",
     "text": [
      "탐색\n"
     ]
    }
   ],
   "source": [
    "# 2 - 수업시간에 코딩한 KMP 알고리즘의 구동 방법을 설명하라\n",
    "\n",
    "def makeTable(pattern):   # 패턴 파악 위한 테이블 함수 제작\n",
    "    j = 0   # 접두사에 인덱스\n",
    "    for i in range(1, len(pattern)):\n",
    "        if j > 0 and pattern[i] != pattern[j]:   # 접두사의 인덱스가 가장 마지막 문자와 일치하지 않을때\n",
    "            j = 0   # 접두사 인덱스를 초기화시켜\n",
    "\n",
    "        if pattern[i] == pattern[j]:   # 현재 접두사 인덱스와 가장 마지막 인덱스 글자가 일치할때\n",
    "            j += 1   # 접두사의 인덱스를 증가시켜\n",
    "            table[i] = j   # 테이블에 접두사 인덱스 값을 저장시킨다\n",
    "\n",
    "def KMP(s, pattern):   # KMP 탐색 실행\n",
    "    makeTable(pattern)   # 접두사 접미사가 일치하는 인덱스 찾기 위해 테이블을 생성한다\n",
    "    j = 0   # 찾으려는 문자열의 인덱스 번호\n",
    "    for i in range(len(s)):\n",
    "        while j > 0 and s[i] != pattern[j]:   # 문자가 일치하지 않을때\n",
    "            j = table[j - 1]   # 테이블에 기록한 패턴의 인덱스로 수정해준다\n",
    "\n",
    "        if s[i] == pattern[j]:   # 문자가 일치하면\n",
    "            if j == len(pattern) - 1:   # 패턴과 일치하는 문자열이면\n",
    "                return True   # True를 돌려보낸다\n",
    "            else:\n",
    "                j += 1   # 전부 못찾았으면 다음 자리수 탐색 위해 인덱스를 증가시켜\n",
    "    return False   # 검색 실패\n",
    "\n",
    "s = input('문자열을 입력해주세요.: ')   # 전체 문자열 받는다\n",
    "pattern = input(\"찾으려는 문자열을 입력해주세요.: \")   # 찾고 싶은 문자열 받는다\n",
    "table = [0] * len(pattern)   # 문자열에서 접두사 접미사 일치하는 개수를 확인하는 리스트이다\n",
    "\n",
    "if KMP(s, pattern):   # KMP법 실행한다\n",
    "    print(\"탐색\")   # 성공\n",
    "else:\n",
    "    print(\"실패\")   # 실패"
   ]
  },
  {
   "cell_type": "code",
   "execution_count": 12,
   "metadata": {
    "pycharm": {
     "name": "#%%\n"
    }
   },
   "outputs": [
    {
     "name": "stdout",
     "output_type": "stream",
     "text": [
      "탐색\n"
     ]
    }
   ],
   "source": [
    "# 3 - 수업 시간에 코딩한 보이어.무어 알고리즘의 구동 방법을 설명하라\n",
    "\n",
    "def boyer_moore(text, pattern):\n",
    "    #길이를 자주쓰니 귀찮으니 받아보자\n",
    "    M = len(pattern)\n",
    "    N = len(text)\n",
    "    i = 0\n",
    "\n",
    "    while i <= N - M :   #반복은 긴텍스트 길이가 최대, 작은텍스트 길이 사이로 된다\n",
    "        j = M - 1   # 뒤에서 부터 시작해 -1을 해준다, -1은 인덱스가 0부터 시작해서\n",
    "        while j >= 0 :   # 뒤에서부터 검사하는 시스템이라 0이상일때만 동작한다\n",
    "            if pattern[j] != text[i + j]:   # 글자가 틀릴때\n",
    "                move = find(pattern, text[i + M - 1])   # 마지막 글자 기준으로 find 함수를 호출시켜\n",
    "                break\n",
    "            j = j - 1   # 전진하자 앞으로\n",
    "        if j == -1:   # 인덱스가 -1이 되었다는 것은 모든 글자가 맞았다는 것이다\n",
    "            return True   # True 반환\n",
    "        else:   # 못찾은 경우\n",
    "            i += move   # find에서 넘겨준 값 만큼 옆으로 이동시켜\n",
    "    return False   # 여기까지 왔음 못찾은거 => False 반환\n",
    "\n",
    "def find(pattern, char):   # 불필요한 비교를 제끼기 위한 함수\n",
    "    for i in range(len(pattern)-2, -1, -1):   # 마지막 부분은 가능성이 없으니 그 전부터 마지막 부분과 일치하는 부분 잇는지 검색하자\n",
    "        if pattern[i] == char:   # 마지막 글자와 패턴 중 일치하는 부분 있을때\n",
    "            return len(pattern) -i -1   # 그만큼 이동시켜라\n",
    "    return len(pattern)   # 일치하는 게 없으면 패턴 길이만큼 슉 이동\n",
    "\n",
    "s = input('문자열을 입력해주세요.: ')   # 전체 문자열 받는다\n",
    "p = input(\"찾으려는 문자열을 입력해주세요.: \")   # 찾고 싶은 문자열 받는다\n",
    "\n",
    "if boyer_moore(s, p):  # 보이어 무어 실행\n",
    "    print(\"탐색\")   # 성공\n",
    "else:\n",
    "    print(\"실패\")   # 실패..."
   ]
  },
  {
   "cell_type": "code",
   "execution_count": null,
   "outputs": [],
   "source": [],
   "metadata": {
    "collapsed": false,
    "pycharm": {
     "name": "#%%\n"
    }
   }
  }
 ],
 "metadata": {
  "kernelspec": {
   "display_name": "Python 3 (ipykernel)",
   "language": "python",
   "name": "python3"
  },
  "language_info": {
   "codemirror_mode": {
    "name": "ipython",
    "version": 3
   },
   "file_extension": ".py",
   "mimetype": "text/x-python",
   "name": "python",
   "nbconvert_exporter": "python",
   "pygments_lexer": "ipython3",
   "version": "3.9.7"
  }
 },
 "nbformat": 4,
 "nbformat_minor": 1
}