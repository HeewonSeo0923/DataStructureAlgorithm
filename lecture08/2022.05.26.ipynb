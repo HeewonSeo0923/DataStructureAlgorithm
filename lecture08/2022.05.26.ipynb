{
 "cells": [
  {
   "cell_type": "code",
   "execution_count": 1,
   "id": "976abe19",
   "metadata": {},
   "outputs": [],
   "source": [
    "# 단순 연결 리스트 클래스 선언\n",
    "class Node():\n",
    "    def __init__(self):\n",
    "        self.data = None\n",
    "        self.link = None"
   ]
  },
  {
   "cell_type": "code",
   "execution_count": 2,
   "id": "fb3a149b",
   "metadata": {},
   "outputs": [],
   "source": [
    "# 노드 프린트 함수\n",
    "def printNodes(start):\n",
    "    current = start\n",
    "    if current == None:\n",
    "        return\n",
    "    print(current.data, end = ' ')\n",
    "    while current.link != None :\n",
    "        current = current.link\n",
    "        print(current.data, end = ' ')\n",
    "    print()"
   ]
  },
  {
   "cell_type": "code",
   "execution_count": 6,
   "id": "bdac4f46",
   "metadata": {},
   "outputs": [],
   "source": [
    "# 추가하자\n",
    "def insertNode(findData, insertData):\n",
    "    global memory, head, current, pre\n",
    "    \n",
    "    if head.data == findData:   # 첫번째 노드에 삽입\n",
    "        node = Node()\n",
    "        node.data = insertData\n",
    "        node.link = head\n",
    "        head = node\n",
    "        return\n",
    "    \n",
    "    current = head\n",
    "    while current.link != None:   # 중간 노드 삽입\n",
    "        pre = current \n",
    "        current = current.link\n",
    "        if current.data == findData :\n",
    "            node = Node()\n",
    "            node.data = insertData\n",
    "            node.link = current\n",
    "            pre.link = node\n",
    "            return\n",
    "        \n",
    "    node = Node()   # 마지막 노드 삽입\n",
    "    node.data = insertData\n",
    "    current.link = node"
   ]
  },
  {
   "cell_type": "code",
   "execution_count": 8,
   "id": "2b208145",
   "metadata": {},
   "outputs": [],
   "source": [
    "# 노드 삭제하자\n",
    "def deleteNode(deleteData):\n",
    "    global memory, head, current, pre\n",
    "    \n",
    "    if head.data == deleteData:   # 첫번째 노드 삭제\n",
    "        current = head\n",
    "        head = head.link\n",
    "        del(current)\n",
    "        return\n",
    "    \n",
    "    current = head\n",
    "    while current.link != None:\n",
    "        pre = current\n",
    "        current = current.link\n",
    "        if current.data == deleteData:\n",
    "            pre.link = current.link\n",
    "            del(current)\n",
    "            return"
   ]
  },
  {
   "cell_type": "code",
   "execution_count": 3,
   "id": "3ebf4022",
   "metadata": {},
   "outputs": [],
   "source": [
    "# 전역 변수\n",
    "memory = []\n",
    "head, current, pre = None, None, None\n",
    "dataArray = ['Jin', 'SUGA', 'RM', 'JHope']"
   ]
  },
  {
   "cell_type": "code",
   "execution_count": 7,
   "id": "ea11eea5",
   "metadata": {},
   "outputs": [
    {
     "name": "stdout",
     "output_type": "stream",
     "text": [
      "Jin SUGA RM JHope \n",
      "BTS Jin SUGA RM JHope \n",
      "BTS Jin SUGA V RM JHope \n",
      "BTS Jin SUGA V RM JHope Jungkook \n"
     ]
    }
   ],
   "source": [
    "if __name__ == '__main__':\n",
    "    # first node\n",
    "    node = Node()\n",
    "    node.data = dataArray[0]\n",
    "    head = node\n",
    "    memory.append(node)\n",
    "    \n",
    "    # after node\n",
    "    for data in dataArray[1:]:\n",
    "        pre = node\n",
    "        node = Node()\n",
    "        node.data = data\n",
    "        pre.link = node\n",
    "        memory.append(node)\n",
    "        \n",
    "    printNodes(head)\n",
    "    \n",
    "    insertNode(\"Jin\", 'BTS')\n",
    "    printNodes(head)\n",
    "    \n",
    "    insertNode('RM', 'V')\n",
    "    printNodes(head)\n",
    "    \n",
    "    insertNode('Wonjun', 'Jungkook')\n",
    "    printNodes(head)"
   ]
  },
  {
   "cell_type": "code",
   "execution_count": 10,
   "id": "bb3b6c91",
   "metadata": {},
   "outputs": [
    {
     "name": "stdout",
     "output_type": "stream",
     "text": [
      "Jin SUGA RM JHope \n",
      "SUGA RM JHope \n",
      "RM JHope \n",
      "JHope \n",
      "JHope \n"
     ]
    }
   ],
   "source": [
    "if __name__ == '__main__':\n",
    "    # first node\n",
    "    node = Node()\n",
    "    node.data = dataArray[0]\n",
    "    head = node\n",
    "    memory.append(node)\n",
    "    \n",
    "    # after node\n",
    "    for data in dataArray[1:]:\n",
    "        pre = node\n",
    "        node = Node()\n",
    "        node.data = data\n",
    "        pre.link = node\n",
    "        memory.append(node)\n",
    "        \n",
    "    printNodes(head)\n",
    "    \n",
    "    deleteNode('Jin')\n",
    "    printNodes(head)\n",
    "    \n",
    "    deleteNode('SUGA')\n",
    "    printNodes(head)\n",
    "    \n",
    "    deleteNode('RM')\n",
    "    printNodes(head)\n",
    "    \n",
    "    deleteNode('Wonjun')\n",
    "    printNodes(head)"
   ]
  },
  {
   "cell_type": "code",
   "execution_count": null,
   "id": "142e58ac",
   "metadata": {},
   "outputs": [],
   "source": []
  }
 ],
 "metadata": {
  "kernelspec": {
   "display_name": "Python 3 (ipykernel)",
   "language": "python",
   "name": "python3"
  },
  "language_info": {
   "codemirror_mode": {
    "name": "ipython",
    "version": 3
   },
   "file_extension": ".py",
   "mimetype": "text/x-python",
   "name": "python",
   "nbconvert_exporter": "python",
   "pygments_lexer": "ipython3",
   "version": "3.9.7"
  }
 },
 "nbformat": 4,
 "nbformat_minor": 5
}
