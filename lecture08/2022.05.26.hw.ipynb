{
 "cells": [
  {
   "cell_type": "code",
   "execution_count": 1,
   "id": "7f8f0d5f",
   "metadata": {},
   "outputs": [],
   "source": [
    "class Node():\n",
    "    def __init__(self):\n",
    "        self.data = None\n",
    "        self.link = None"
   ]
  },
  {
   "cell_type": "code",
   "execution_count": 2,
   "id": "efe21fa9",
   "metadata": {},
   "outputs": [],
   "source": [
    "def printNodes(start):\n",
    "    current = start\n",
    "    if current == None:\n",
    "        return\n",
    "    print(current.data, end = ' ')\n",
    "    while current.link != None :\n",
    "        current = current.link\n",
    "        print(current.data, end = ' ')\n",
    "    print()"
   ]
  },
  {
   "cell_type": "code",
   "execution_count": 3,
   "id": "e0dc1192",
   "metadata": {},
   "outputs": [],
   "source": [
    "def insertNode(findData, insertData):\n",
    "    global memory, head, current, pre\n",
    "    \n",
    "    if head.data == findData:   # 첫번째 노드에 삽입\n",
    "        node = Node()\n",
    "        node.data = insertData\n",
    "        node.link = head\n",
    "        head = node\n",
    "        return\n",
    "    \n",
    "    current = head\n",
    "    while current.link != None:   # 중간 노드 삽입\n",
    "        pre = current \n",
    "        current = current.link\n",
    "        if current.data == findData :\n",
    "            node = Node()\n",
    "            node.data = insertData\n",
    "            node.link = current\n",
    "            pre.link = node\n",
    "            return\n",
    "        \n",
    "    node = Node()   # 마지막 노드 삽입\n",
    "    node.data = insertData\n",
    "    current.link = node"
   ]
  },
  {
   "cell_type": "code",
   "execution_count": 4,
   "id": "e06a36be",
   "metadata": {},
   "outputs": [],
   "source": [
    "def deleteNode(deleteData):\n",
    "    global memory, head, current, pre\n",
    "    \n",
    "    if head.data == deleteData:   # 첫번째 노드 삭제\n",
    "        current = head\n",
    "        head = head.link\n",
    "        del(current)\n",
    "        return\n",
    "    \n",
    "    current = head\n",
    "    while current.link != None:\n",
    "        pre = current\n",
    "        current = current.link\n",
    "        if current.data == deleteData:\n",
    "            pre.link = current.link\n",
    "            del(current)\n",
    "            return"
   ]
  },
  {
   "cell_type": "code",
   "execution_count": 5,
   "id": "6c9563de",
   "metadata": {},
   "outputs": [],
   "source": [
    "memory = []\n",
    "head, current, pre = None, None, None\n",
    "dataArray = ['지민']"
   ]
  },
  {
   "cell_type": "code",
   "execution_count": 6,
   "id": "606d1c83",
   "metadata": {},
   "outputs": [
    {
     "name": "stdout",
     "output_type": "stream",
     "text": [
      "지민 \n",
      "정국 지민 \n",
      "뷔 정국 지민 \n",
      "뷔 슈가 정국 지민 \n",
      "뷔 슈가 정국 지민 진 \n"
     ]
    }
   ],
   "source": [
    "if __name__ == \"__main__\":\n",
    "    node = Node()\n",
    "    node.data = dataArray[0]\n",
    "    head = node\n",
    "    memory.append(node)\n",
    "\n",
    "    for data in dataArray[1:]:\n",
    "        pre = node\n",
    "        node = Node()\n",
    "        node.data = data\n",
    "        pre.link = node\n",
    "        memory.append(node)\n",
    "\n",
    "    printNodes(head)\n",
    "\n",
    "    insertNode(\"지민\", \"정국\")\n",
    "    printNodes(head)\n",
    "\n",
    "    insertNode(\"정국\", \"뷔\")\n",
    "    printNodes(head)\n",
    "\n",
    "    insertNode(\"정국\", \"슈가\")\n",
    "    printNodes(head)\n",
    "\n",
    "    insertNode(\"하경\", \"진\")\n",
    "    printNodes(head)\n",
    "    "
   ]
  },
  {
   "cell_type": "code",
   "execution_count": null,
   "id": "ef63b7bd",
   "metadata": {},
   "outputs": [],
   "source": []
  },
  {
   "cell_type": "code",
   "execution_count": null,
   "id": "a320a2d7",
   "metadata": {},
   "outputs": [],
   "source": []
  },
  {
   "cell_type": "code",
   "execution_count": null,
   "id": "20033cce",
   "metadata": {},
   "outputs": [],
   "source": []
  }
 ],
 "metadata": {
  "kernelspec": {
   "display_name": "Python 3 (ipykernel)",
   "language": "python",
   "name": "python3"
  },
  "language_info": {
   "codemirror_mode": {
    "name": "ipython",
    "version": 3
   },
   "file_extension": ".py",
   "mimetype": "text/x-python",
   "name": "python",
   "nbconvert_exporter": "python",
   "pygments_lexer": "ipython3",
   "version": "3.9.7"
  }
 },
 "nbformat": 4,
 "nbformat_minor": 5
}
