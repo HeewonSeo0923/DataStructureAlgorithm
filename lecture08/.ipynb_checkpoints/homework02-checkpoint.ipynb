{
 "cells": [
  {
   "cell_type": "code",
   "execution_count": 2,
   "metadata": {
    "collapsed": true
   },
   "outputs": [
    {
     "name": "stdout",
     "output_type": "stream",
     "text": [
      "힙 정렬을 수행합니다(heapq.push와 heapq.pop를 사용).\n",
      "오름차순으로 정렬했습니다.\n",
      "x[0] = 1\n",
      "x[1] = 3\n",
      "x[2] = 4\n",
      "x[3] = 6\n",
      "x[4] = 7\n",
      "x[5] = 8\n",
      "x[6] = 9\n"
     ]
    }
   ],
   "source": [
    "# 1 - 힙정렬 구동방법을 설명하라\n",
    "\n",
    "import heapq   # heapq 모듈을 사용해 힙 정렬을 수행\n",
    "from typing import MutableSequence\n",
    "\n",
    "def heapSort(a: MutableSequence) -> None:\n",
    "    \"\"\"힙 정렬(heapq.push와 heapq.pop를 사용)\"\"\"\n",
    "\n",
    "    heap = []   # 빈 힙 제작 -> 여기에 힙정렬 저장해둠\n",
    "    for i in a:\n",
    "        heapq.heappush(heap, i)   # heap에 원소를 넣는다\n",
    "    for i in range(len(a)):\n",
    "        a[i] = heapq.heappop(heap)   # heap에 원소를 제거한다 + a에 순서대로 재정렬한다.\n",
    "\n",
    "if __name__ == '__main__':\n",
    "    print('힙 정렬을 수행합니다(heapq.push와 heapq.pop를 사용).')\n",
    "    num = int(input('원소 수를 입력하세요. : '))\n",
    "    x = [None] * num    # 원소 수가 num인 배열을 생성\n",
    "\n",
    "    for i in range(num):\n",
    "        x[i] = int(input(f'x[{i}] : '))   # 순서대로 배열 X의 원솟값을 넣는다\n",
    "\n",
    "    heapSort(x)        # 배열 x를 힙 정렬\n",
    "\n",
    "    print('오름차순으로 정렬했습니다.')\n",
    "    for i in range(num):   # 힙 정렬 결괏값 하나씩 출력하기\n",
    "        print(f'x[{i}] = {x[i]}')   # f스트링을 이용해 결괏값 출력하기"
   ]
  },
  {
   "cell_type": "code",
   "execution_count": 1,
   "metadata": {
    "pycharm": {
     "name": "#%%\n"
    }
   },
   "outputs": [
    {
     "name": "stdout",
     "output_type": "stream",
     "text": [
      "텍스트를 입력하세요.: asdqweasd\n",
      "패턴을 입력하세요.: dqw\n",
      "3번째 문자에서 일치합니다\n"
     ]
    }
   ],
   "source": [
    "# 2 - 수업시간에 코딩한 KMP 알고리즘의 구동 방법을 설명하라\n",
    "\n",
    "def kmpMatch(txt: str, pat: str) -> int:\n",
    "    '''KMP법에 의한 문자열을 검색한다'''\n",
    "    pt = 1   # txt를 따라가는 커서\n",
    "    pp = 0   # pat를 따라가는 커서\n",
    "    skip = [0] * (len(pat) + 1)   # 건너뛰기 공식, pat의 길이에 따라 건너뛰기가 달라진다 \n",
    "    \n",
    "    # 건너뛰기 만들기 : 몇번째부터 다시 검색할까? 실행\n",
    "    skip[pt] = 0   # 0으로 기본 설정 \n",
    "    while pt != len(pat):   \n",
    "        if pat[pt] == pat[pp]:  # \n",
    "            pt += 1\n",
    "            pp += 1\n",
    "            skip[pt] = pp\n",
    "        elif pp == 0:\n",
    "            pt += 1\n",
    "            skip[pt] = pp\n",
    "        else:\n",
    "            pp = skip[pp]\n",
    "            \n",
    "    # 검색 실행\n",
    "    pt = pp = 0\n",
    "    while pt != len(txt) and pp != len(pat):\n",
    "        if txt[pt] == pat[pp]:\n",
    "            pt += 1\n",
    "            pp += 1\n",
    "        elif pp == 0:\n",
    "            pt += 1\n",
    "        else:\n",
    "            pp = skip[pp]\n",
    "            \n",
    "    return pt - pp if pp == len(pat) else -1\n",
    "\n",
    "if __name__ == \"__main__\":\n",
    "    s1 = input('텍스트를 입력하세요.: ')   # 텍스트를 입력받는다\n",
    "    s2 = input('패턴을 입력하세요.: ')   # 찾고 싶은 패턴을 입력받는다\n",
    "    \n",
    "    idx = kmpMatch(s1, s2)   # idx를 이용해 KMP법을 실행한 결과를 받아온다\n",
    "    \n",
    "    if idx == -1:   # 검색 실패\n",
    "        print('텍스으 안에 패턴이 존재하지 않습니다.')\n",
    "    else:   # 검색 성공\n",
    "        print(f'{(idx + 1)}번째 문자에서 일치합니다')"
   ]
  },
  {
   "cell_type": "code",
   "execution_count": null,
   "metadata": {},
   "outputs": [],
   "source": []
  },
  {
   "cell_type": "code",
   "execution_count": null,
   "metadata": {
    "pycharm": {
     "name": "#%%\n"
    }
   },
   "outputs": [],
   "source": [
    "# 3 - 수업 시간에 코딩한 보이어.무어 알고리즘의 구동 방법을 설명하라\n",
    "\n"
   ]
  }
 ],
 "metadata": {
  "kernelspec": {
   "display_name": "Python 3 (ipykernel)",
   "language": "python",
   "name": "python3"
  },
  "language_info": {
   "codemirror_mode": {
    "name": "ipython",
    "version": 3
   },
   "file_extension": ".py",
   "mimetype": "text/x-python",
   "name": "python",
   "nbconvert_exporter": "python",
   "pygments_lexer": "ipython3",
   "version": "3.9.7"
  }
 },
 "nbformat": 4,
 "nbformat_minor": 1
}
