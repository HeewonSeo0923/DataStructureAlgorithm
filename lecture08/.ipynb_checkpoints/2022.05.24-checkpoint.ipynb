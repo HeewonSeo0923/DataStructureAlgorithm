{
 "cells": [
  {
   "cell_type": "code",
   "execution_count": 1,
   "id": "b5ccc5a8",
   "metadata": {},
   "outputs": [],
   "source": [
    "class linkedNode():\n",
    "    def __init__(self):    # 생성자\n",
    "        self.data = None    # 데이터와 링크를 저장\n",
    "        self.link = None"
   ]
  },
  {
   "cell_type": "code",
   "execution_count": 2,
   "id": "0c3cb4a2",
   "metadata": {},
   "outputs": [
    {
     "name": "stdout",
     "output_type": "stream",
     "text": [
      "Jin"
     ]
    }
   ],
   "source": [
    "node1 = linkedNode()\n",
    "node1.data = 'Jin'\n",
    "print(node1.data, end='')"
   ]
  },
  {
   "cell_type": "code",
   "execution_count": 3,
   "id": "550c4188",
   "metadata": {},
   "outputs": [
    {
     "name": "stdout",
     "output_type": "stream",
     "text": [
      "SUGA"
     ]
    }
   ],
   "source": [
    "node2 = linkedNode()\n",
    "node2.data = 'SUGA'\n",
    "node1.link = node2\n",
    "print(node1.link.data, end='')"
   ]
  },
  {
   "cell_type": "code",
   "execution_count": 4,
   "id": "9580f614",
   "metadata": {},
   "outputs": [
    {
     "name": "stdout",
     "output_type": "stream",
     "text": [
      "RM"
     ]
    }
   ],
   "source": [
    "node3 = linkedNode()\n",
    "node3.data = 'RM'\n",
    "node2.link = node3\n",
    "print(node1.link.link.data, end='')"
   ]
  },
  {
   "cell_type": "code",
   "execution_count": 5,
   "id": "b03d3136",
   "metadata": {},
   "outputs": [
    {
     "name": "stdout",
     "output_type": "stream",
     "text": [
      "JHope"
     ]
    }
   ],
   "source": [
    "node4 = linkedNode()\n",
    "node4.data = 'JHope'\n",
    "node3.link = node4\n",
    "print(node1.link.link.link.data, end='')"
   ]
  },
  {
   "cell_type": "code",
   "execution_count": 8,
   "id": "dde02563",
   "metadata": {},
   "outputs": [
    {
     "name": "stdout",
     "output_type": "stream",
     "text": [
      "Jin-SUGA-RM-JHope"
     ]
    }
   ],
   "source": [
    "print(node1.data, end='-')\n",
    "print(node1.link.data, end='-')\n",
    "print(node1.link.link.data, end='-')\n",
    "print(node1.link.link.link.data, end='')"
   ]
  },
  {
   "cell_type": "code",
   "execution_count": 10,
   "id": "23fd6067",
   "metadata": {},
   "outputs": [
    {
     "name": "stdout",
     "output_type": "stream",
     "text": [
      "Jin SUGA RM JHope "
     ]
    }
   ],
   "source": [
    "current = node1\n",
    "print(current.data, end=' ')\n",
    "while current.link != None:\n",
    "    current = current.link\n",
    "    print(current.data, end=' ')"
   ]
  },
  {
   "cell_type": "code",
   "execution_count": 13,
   "id": "e2b3505f",
   "metadata": {},
   "outputs": [],
   "source": [
    "newNode = linkedNode()\n",
    "newNode.data = 'V'\n",
    "newNode.link = node2.link\n",
    "node2.link = newNode"
   ]
  },
  {
   "cell_type": "code",
   "execution_count": 14,
   "id": "1c737ed1",
   "metadata": {},
   "outputs": [
    {
     "name": "stdout",
     "output_type": "stream",
     "text": [
      "Jin SUGA V RM JHope "
     ]
    }
   ],
   "source": [
    "current = node1\n",
    "print(current.data, end=' ')\n",
    "while current.link != None :\n",
    "    current = current.link\n",
    "    print(current.data, end=' ')"
   ]
  },
  {
   "cell_type": "code",
   "execution_count": 15,
   "id": "4c3f01e8",
   "metadata": {},
   "outputs": [],
   "source": [
    "node3.link = node4.link\n",
    "del(node4)"
   ]
  },
  {
   "cell_type": "code",
   "execution_count": 16,
   "id": "eecf4bcd",
   "metadata": {},
   "outputs": [
    {
     "name": "stdout",
     "output_type": "stream",
     "text": [
      "Jin SUGA V RM "
     ]
    }
   ],
   "source": [
    "current = node1\n",
    "print(current.data, end=' ')\n",
    "while current.link != None:\n",
    "    current = current.link\n",
    "    print(current.data, end= ' ')"
   ]
  },
  {
   "cell_type": "code",
   "execution_count": 20,
   "id": "00cad60f",
   "metadata": {},
   "outputs": [],
   "source": [
    "# 단순 연결 리스트 클래스 선언\n",
    "class Node():\n",
    "    def __init__(self):\n",
    "        self.data = None\n",
    "        self.link = None"
   ]
  },
  {
   "cell_type": "code",
   "execution_count": 21,
   "id": "b2ece90f",
   "metadata": {},
   "outputs": [],
   "source": [
    "# 노드 프린트 함수\n",
    "def printNodes(start):\n",
    "    current = start\n",
    "    if current == None:\n",
    "        return\n",
    "    print(current.data, end = ' ')\n",
    "    while current.link != None :\n",
    "        current = current.link\n",
    "        print(current.data, end = ' ')\n",
    "    print()"
   ]
  },
  {
   "cell_type": "code",
   "execution_count": 22,
   "id": "0159dfb6",
   "metadata": {},
   "outputs": [],
   "source": [
    "# 전역 변수\n",
    "memory = []\n",
    "head, current, pre = None, None, None\n",
    "dataArray = ['Jin', 'SUGA', 'RM', 'JHope']"
   ]
  },
  {
   "cell_type": "code",
   "execution_count": 23,
   "id": "9cd1ae63",
   "metadata": {},
   "outputs": [
    {
     "name": "stdout",
     "output_type": "stream",
     "text": [
      "Jin SUGA RM JHope \n"
     ]
    }
   ],
   "source": [
    "if __name__ == '__main__':\n",
    "    # first node\n",
    "    node = Node()\n",
    "    node.data = dataArray[0]\n",
    "    head = node\n",
    "    memory.append(node)\n",
    "    # after node\n",
    "    for data in dataArray[1:]:\n",
    "        pre = node\n",
    "        node = Node()\n",
    "        node.data = data\n",
    "        pre.link = node\n",
    "        memory.append(node)\n",
    "        \n",
    "    printNodes(head)"
   ]
  },
  {
   "cell_type": "code",
   "execution_count": null,
   "id": "99fde434",
   "metadata": {},
   "outputs": [],
   "source": []
  }
 ],
 "metadata": {
  "kernelspec": {
   "display_name": "Python 3 (ipykernel)",
   "language": "python",
   "name": "python3"
  },
  "language_info": {
   "codemirror_mode": {
    "name": "ipython",
    "version": 3
   },
   "file_extension": ".py",
   "mimetype": "text/x-python",
   "name": "python",
   "nbconvert_exporter": "python",
   "pygments_lexer": "ipython3",
   "version": "3.9.7"
  }
 },
 "nbformat": 4,
 "nbformat_minor": 5
}
