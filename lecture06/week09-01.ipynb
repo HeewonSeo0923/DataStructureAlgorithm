{
 "cells": [
  {
   "cell_type": "code",
   "execution_count": null,
   "metadata": {},
   "outputs": [],
   "source": [
    "# 정렬 알고리즘 학습"
   ]
  },
  {
   "cell_type": "code",
   "execution_count": 1,
   "metadata": {},
   "outputs": [
    {
     "name": "stdout",
     "output_type": "stream",
     "text": [
      "버블 정렬을 수행합니다.\n",
      "오름차순으로 정렬했습니다.\n",
      "x[0] = 1\n",
      "x[1] = 3\n",
      "x[2] = 4\n",
      "x[3] = 6\n",
      "x[4] = 7\n",
      "x[5] = 8\n",
      "x[6] = 9\n"
     ]
    }
   ],
   "source": [
    "# Bubble Sort algorithm\n",
    "\n",
    "from typing import MutableSequence\n",
    "\n",
    "def  bubbleSort(a: MutableSequence) -> None:\n",
    "    '''bubble sort'''\n",
    "    n = len(a)\n",
    "    for i in range(n-1):\n",
    "        for j in range(n-1, i, -1):\n",
    "            if a[j-1] > a[j]:\n",
    "                a[j-1], a[j] = a[j], a[j-1]\n",
    "\n",
    "if __name__ == \"__main__\":\n",
    "    print('버블 정렬을 수행합니다.')\n",
    "    num = int(input(\"원소 수를 입력하세요.: \"))\n",
    "    x = [None] * num   # 원소 수가 num인 배열을 생성한다\n",
    "\n",
    "    for i in range(num):\n",
    "        x[i] = int(input(f\"x[{i}]: \"))\n",
    "\n",
    "    bubbleSort(x)   # 배열 x를 버블 정렬\n",
    "\n",
    "    print('오름차순으로 정렬했습니다.')\n",
    "    for i in range(num):\n",
    "        print(f\"x[{i}] = {x[i]}\")\n"
   ]
  },
  {
   "cell_type": "code",
   "execution_count": 6,
   "metadata": {},
   "outputs": [
    {
     "name": "stdout",
     "output_type": "stream",
     "text": [
      "버블 정렬을 수행합니다.\n",
      "pass 1\n",
      " 6  4  3  7  1  9 + 8\n",
      " 6  4  3  7  1 - 8  9\n",
      " 6  4  3  7 + 1  8  9\n",
      " 6  4  3 + 1  7  8  9\n",
      " 6  4 + 1  3  7  8  9\n",
      " 6 + 1  4  3  7  8  9\n",
      " 1  6  4  3  7  8  9\n",
      "pass 2\n",
      " 1  6  4  3  7  8 - 9\n",
      " 1  6  4  3  7 - 8  9\n",
      " 1  6  4  3 - 7  8  9\n",
      " 1  6  4 + 3  7  8  9\n",
      " 1  6 + 3  4  7  8  9\n",
      " 1  3  6  4  7  8  9\n",
      "pass 3\n",
      " 1  3  6  4  7  8 - 9\n",
      " 1  3  6  4  7 - 8  9\n",
      " 1  3  6  4 - 7  8  9\n",
      " 1  3  6 + 4  7  8  9\n",
      " 1  3  4  6  7  8  9\n",
      "pass 4\n",
      " 1  3  4  6  7  8 - 9\n",
      " 1  3  4  6  7 - 8  9\n",
      " 1  3  4  6 - 7  8  9\n",
      " 1  3  4  6  7  8  9\n",
      "pass 5\n",
      " 1  3  4  6  7  8 - 9\n",
      " 1  3  4  6  7 - 8  9\n",
      " 1  3  4  6  7  8  9\n",
      "pass 6\n",
      " 1  3  4  6  7  8 - 9\n",
      " 1  3  4  6  7  8  9\n",
      "compare count : 21\n",
      "exchange count : 8\n",
      "오름차순으로 정렬했습니다.\n",
      "x[0] = 1\n",
      "x[1] = 3\n",
      "x[2] = 4\n",
      "x[3] = 6\n",
      "x[4] = 7\n",
      "x[5] = 8\n",
      "x[6] = 9\n"
     ]
    }
   ],
   "source": [
    "# bubble sort algorthm => Process Shown\n",
    "\n",
    "from typing import MutableSequence\n",
    "\n",
    "def bubbleSortVervose(a: MutableSequence) -> None:\n",
    "    '''Bubble Sort(print process)'''\n",
    "    ccnt = 0   # Comparing count\n",
    "    scnt = 0   # exchanging count\n",
    "    n = len(a)\n",
    "    for i in range(n - 1):\n",
    "        print(f'pass {i + 1}')\n",
    "        for j in range(n-1, i, -1):\n",
    "            for m in range(0, n-1):\n",
    "                print(f'{a[m]:2}' + (\" \" if m != j - 1 else\n",
    "                                     ' +' if a[j-1] > a[j] else\n",
    "                                     ' -'),end='')\n",
    "            print(f\"{a[n - 1]:2}\")\n",
    "            ccnt += 1\n",
    "            if a[j - 1] > a[j]:\n",
    "                scnt += 1\n",
    "                a[j-1], a[j] = a[j], a[j-1]\n",
    "        for m in range(0, n-1):\n",
    "            print(f\"{a[m]:2}\", end=' ')\n",
    "        print(f'{a[n-1]:2}')\n",
    "    print(f'compare count : {ccnt}')\n",
    "    print(f'exchange count : {scnt}')\n",
    "\n",
    "if __name__ == \"__main__\":\n",
    "    print('버블 정렬을 수행합니다.')\n",
    "    num = int(input(\"원소 수를 입력하세요.: \"))\n",
    "    x = [None] * num   # 원소 수가 num인 배열을 생성한다\n",
    "\n",
    "    for i in range(num):\n",
    "        x[i] = int(input(f\"x[{i}]: \"))\n",
    "\n",
    "    bubbleSortVervose(x)   # 배열 x를 버블 정렬\n",
    "\n",
    "    print('오름차순으로 정렬했습니다.')\n",
    "    for i in range(num):\n",
    "        print(f\"x[{i}] = {x[i]}\")"
   ]
  },
  {
   "cell_type": "code",
   "execution_count": null,
   "outputs": [],
   "source": [
    "# bubble sort (better algorithm 1)\n",
    "\n",
    "from typing import MutableSequence\n",
    "\n",
    "def bubbleSort(a : MutableSequence) -> None:\n",
    "    '''Bubble sort (stop by exchanging Count)'''\n",
    "    n = len(a)\n",
    "    for i in range(n-1):\n",
    "        exchng = 0   # pass exchanging count\n",
    "        for j in range(n-1, i, -1):\n",
    "            if a[j - 1] > a[j]:\n",
    "                a[j - 1], a[j] = a[j], a[j - 1]\n",
    "                exchng += 1\n",
    "        if exchng == 0:\n",
    "            break"
   ],
   "metadata": {
    "collapsed": false,
    "pycharm": {
     "name": "#%%\n"
    }
   }
  },
  {
   "cell_type": "code",
   "execution_count": null,
   "outputs": [],
   "source": [],
   "metadata": {
    "collapsed": false,
    "pycharm": {
     "name": "#%%\n"
    }
   }
  }
 ],
 "metadata": {
  "interpreter": {
   "hash": "f68e115d36f075ca29140df0f9dea98334a6765b2b9284b1ca7c7153535f8b2f"
  },
  "kernelspec": {
   "display_name": "Python 3.9.7 64-bit",
   "language": "python",
   "name": "python3"
  },
  "language_info": {
   "codemirror_mode": {
    "name": "ipython",
    "version": 3
   },
   "file_extension": ".py",
   "mimetype": "text/x-python",
   "name": "python",
   "nbconvert_exporter": "python",
   "pygments_lexer": "ipython3",
   "version": "3.9.7"
  },
  "orig_nbformat": 4
 },
 "nbformat": 4,
 "nbformat_minor": 2
}