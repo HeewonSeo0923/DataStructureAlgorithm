{
 "cells": [
  {
   "cell_type": "code",
   "execution_count": 10,
   "metadata": {
    "collapsed": true
   },
   "outputs": [],
   "source": [
    "from typing import Any, Sequence\n",
    "\n",
    "def book_search(start, end, target, count):\n",
    "    m = (start + end) // 2\n",
    "    if m == target:\n",
    "        return count\n",
    "    if  target > m :\n",
    "        return book_search(m, end, target, count  +1)\n",
    "    else:\n",
    "        return book_search(start, m , target, count + 1)"
   ]
  },
  {
   "cell_type": "code",
   "execution_count": 11,
   "metadata": {
    "collapsed": false,
    "pycharm": {
     "name": "#%%\n"
    }
   },
   "outputs": [
    {
     "name": "stdout",
     "output_type": "stream",
     "text": [
      "A 학생의 탐색 횟수는 2입니다.\n",
      "B 학생의 탐색 횟수는 3입니다.\n",
      "#1 A 학생이 이겼습니다.\n"
     ]
    }
   ],
   "source": [
    "if __name__ == '__main__':\n",
    "    testCase = int(input('게임을 실행할 횟수를 입력하세요.: '))\n",
    "    for i in range(1, testCase + 1):\n",
    "        P, A, B = map(int, input('''책의 전체 페이지, A학생 시작 페이지, B학생 시작 페이지를 입력하세요\n",
    "        단 입력 숫자는 띄어쓰기로 구분합니다.\n",
    "        ex ) 100 10 90''').split())\n",
    "        countA = book_search(1, P, A, 1)\n",
    "        countB = book_search(1, P, B, 1)\n",
    "        print(f'A 학생의 탐색 횟수는 {countA}입니다.')\n",
    "        print(f'B 학생의 탐색 횟수는 {countB}입니다.')\n",
    "        if countA > countB:\n",
    "            print(f'#{i} B 학생이 이겼습니다.')\n",
    "        else:     \n",
    "            if countA == countB:\n",
    "                print(f'#{i} 0-두 학생은 비겼습니다.')\n",
    "            else:\n",
    "                print(f'#{i} A 학생이 이겼습니다.')\n"
   ]
  },
  {
   "cell_type": "code",
   "execution_count": null,
   "metadata": {},
   "outputs": [],
   "source": []
  }
 ],
 "metadata": {
  "kernelspec": {
   "display_name": "Python 3",
   "language": "python",
   "name": "python3"
  },
  "language_info": {
   "codemirror_mode": {
    "name": "ipython",
    "version": 3
   },
   "file_extension": ".py",
   "mimetype": "text/x-python",
   "name": "python",
   "nbconvert_exporter": "python",
   "pygments_lexer": "ipython3",
   "version": "3.9.7"
  }
 },
 "nbformat": 4,
 "nbformat_minor": 0
}
