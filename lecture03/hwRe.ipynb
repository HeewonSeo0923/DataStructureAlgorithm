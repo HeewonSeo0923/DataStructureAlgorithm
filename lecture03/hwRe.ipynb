{
 "cells": [
  {
   "cell_type": "code",
   "execution_count": 3,
   "metadata": {},
   "outputs": [],
   "source": [
    "def bookSearch(start, end, target, count):\n",
    "    medium = (start + end) //2\n",
    "    if medium == target:\n",
    "        return count\n",
    "    if target > medium:\n",
    "        return bookSearch(medium, end, target, count + 1)\n",
    "    else:\n",
    "        return bookSearch(start, medium, target, count+1)\n",
    "        ## 이해하기\n",
    "        ## count 반복입력이 아니라 개수 추가에 함수 무한반복 형식으로 진행하기 "
   ]
  },
  {
   "cell_type": "code",
   "execution_count": 4,
   "metadata": {},
   "outputs": [
    {
     "ename": "ValueError",
     "evalue": "invalid literal for int() with base 10: ''",
     "output_type": "error",
     "traceback": [
      "\u001b[1;31m---------------------------------------------------------------------------\u001b[0m",
      "\u001b[1;31mValueError\u001b[0m                                Traceback (most recent call last)",
      "\u001b[1;32mc:\\studying\\algorithm\\lecture03\\hwRe.ipynb Cell 2'\u001b[0m in \u001b[0;36m<cell line: 1>\u001b[1;34m()\u001b[0m\n\u001b[0;32m      <a href='vscode-notebook-cell:/c%3A/studying/algorithm/lecture03/hwRe.ipynb#ch0000001?line=0'>1</a>\u001b[0m \u001b[39mif\u001b[39;00m \u001b[39m__name__\u001b[39m \u001b[39m==\u001b[39m \u001b[39m'\u001b[39m\u001b[39m__main__\u001b[39m\u001b[39m'\u001b[39m:\n\u001b[1;32m----> <a href='vscode-notebook-cell:/c%3A/studying/algorithm/lecture03/hwRe.ipynb#ch0000001?line=1'>2</a>\u001b[0m     testCase \u001b[39m=\u001b[39m \u001b[39mint\u001b[39;49m(\u001b[39minput\u001b[39;49m(\u001b[39m'\u001b[39;49m\u001b[39m게임을 실행할 횟수를 입력하세요.: \u001b[39;49m\u001b[39m'\u001b[39;49m))\n\u001b[0;32m      <a href='vscode-notebook-cell:/c%3A/studying/algorithm/lecture03/hwRe.ipynb#ch0000001?line=2'>3</a>\u001b[0m     \u001b[39mfor\u001b[39;00m i \u001b[39min\u001b[39;00m \u001b[39mrange\u001b[39m(\u001b[39m1\u001b[39m, testCase \u001b[39m+\u001b[39m \u001b[39m1\u001b[39m):\n\u001b[0;32m      <a href='vscode-notebook-cell:/c%3A/studying/algorithm/lecture03/hwRe.ipynb#ch0000001?line=3'>4</a>\u001b[0m         P, A, B \u001b[39m=\u001b[39m \u001b[39mmap\u001b[39m(\u001b[39mint\u001b[39m, \u001b[39minput\u001b[39m(\u001b[39m'''\u001b[39m\u001b[39m책의 전체 페이지, A학생 시작 페이지, B학생 시작 페이지를 입력하세요\u001b[39m\n\u001b[0;32m      <a href='vscode-notebook-cell:/c%3A/studying/algorithm/lecture03/hwRe.ipynb#ch0000001?line=4'>5</a>\u001b[0m \u001b[39m        단 입력 숫자는 띄어쓰기로 구분합니다.\u001b[39m\n\u001b[0;32m      <a href='vscode-notebook-cell:/c%3A/studying/algorithm/lecture03/hwRe.ipynb#ch0000001?line=5'>6</a>\u001b[0m \u001b[39m        ex ) 100 10 90\u001b[39m\u001b[39m'''\u001b[39m)\u001b[39m.\u001b[39msplit())\n",
      "\u001b[1;31mValueError\u001b[0m: invalid literal for int() with base 10: ''"
     ]
    }
   ],
   "source": [
    "if __name__ == '__main__':\n",
    "    testCase = int(input('게임을 실행할 횟수를 입력하세요.: '))\n",
    "    for i in range(1, testCase + 1):\n",
    "        P, A, B = map(int, input('''책의 전체 페이지, A학생 시작 페이지, B학생 시작 페이지를 입력하세요\n",
    "        단 입력 숫자는 띄어쓰기로 구분합니다.\n",
    "        ex ) 100 10 90''').split())\n",
    "        countA = bookSearch(1, P, A, 1)\n",
    "        countB = bookSearch(1, P, B, 1)\n",
    "        print(f'A 학생의 탐색 횟수는 {countA}입니다.')\n",
    "        print(f'B 학생의 탐색 횟수는 {countB}입니다.')\n",
    "        if countA > countB:\n",
    "            print(f'#{i} B 학생이 이겼습니다.')\n",
    "        else:     \n",
    "            if countA == countB:\n",
    "                print(f'#{i} 0-두 학생은 비겼습니다.')\n",
    "            else:\n",
    "                print(f'#{i} A 학생이 이겼습니다.')"
   ]
  },
  {
   "cell_type": "code",
   "execution_count": 22,
   "metadata": {},
   "outputs": [],
   "source": [
    "# while 문으로 작성한 선형 검색 알고리즘\n",
    "\n",
    "from typing import Any, Sequence"
   ]
  },
  {
   "cell_type": "code",
   "execution_count": 23,
   "metadata": {},
   "outputs": [],
   "source": [
    "def seqSearch(a: Sequence, key:Any) -> int:\n",
    "    '''시퀀스 a의 key와 같은 원소를 선형 검색 (while문)'''\n",
    "    i = 0\n",
    "\n",
    "    while True:\n",
    "        if i == len(a):\n",
    "            return -1                           # 검색에 실패하여 -1을 변환\n",
    "    if a[i] == key:                 \n",
    "        return i                                # 검색 성공 -> 인덱스 반홙\n",
    "    i += 1"
   ]
  },
  {
   "cell_type": "code",
   "execution_count": 24,
   "metadata": {},
   "outputs": [],
   "source": [
    "if __name__ == '__main__':\n",
    "    num = int(input('원소 수를 입력하세요.: '))       # mum 값을 입력받음\n",
    "    x = [None] * num\n",
    "\n",
    "    for i in range(num) :\n",
    "        x[i] = int(input(f'x[{i}]를 입력하세요.: '))\n",
    "\n",
    "    ky = ."
   ]
  },
  {
   "cell_type": "markdown",
   "metadata": {},
   "source": []
  },
  {
   "cell_type": "code",
   "execution_count": null,
   "metadata": {},
   "outputs": [],
   "source": []
  }
 ],
 "metadata": {
  "interpreter": {
   "hash": "f68e115d36f075ca29140df0f9dea98334a6765b2b9284b1ca7c7153535f8b2f"
  },
  "kernelspec": {
   "display_name": "Python 3.9.7 64-bit",
   "language": "python",
   "name": "python3"
  },
  "language_info": {
   "codemirror_mode": {
    "name": "ipython",
    "version": 3
   },
   "file_extension": ".py",
   "mimetype": "text/x-python",
   "name": "python",
   "nbconvert_exporter": "python",
   "pygments_lexer": "ipython3",
   "version": "3.9.7"
  },
  "orig_nbformat": 4
 },
 "nbformat": 4,
 "nbformat_minor": 2
}
