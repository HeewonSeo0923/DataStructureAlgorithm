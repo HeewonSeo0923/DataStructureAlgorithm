{
 "cells": [
  {
   "cell_type": "code",
   "execution_count": 2,
   "metadata": {
    "collapsed": true
   },
   "outputs": [
    {
     "name": "stdout",
     "output_type": "stream",
     "text": [
      "검색값은 x[3]에 있습니다\n"
     ]
    }
   ],
   "source": [
    "# while문으로 작성한 선형 검색 알고리즘\n",
    "\n",
    "from typing import Any, Sequence\n",
    "\n",
    "def seq_search(a: Sequence, key: Any) -> int:\n",
    "    '''시퀀스 a에서 key와 값이 같은 원소를 선형 검색(while문)'''\n",
    "    i = 0\n",
    "\n",
    "    while True:\n",
    "        if i == len(a):\n",
    "            return -1\n",
    "        if a[i] == key :\n",
    "            return i\n",
    "        i += 1\n",
    "\n",
    "if __name__ == '__main__':\n",
    "    num = int(input('원소 수를 입력하세요.: '))\n",
    "    x = [None] * num\n",
    "\n",
    "    for i in range(num):\n",
    "        x[i] = int(input(f'x[{i}]에 해당하는 값을 입력하세요.: '))\n",
    "\n",
    "    ky = int(input('찾을 값을 입력하세요.: '))\n",
    "\n",
    "    idx = seq_search(x, ky)\n",
    "\n",
    "    if idx == -1:\n",
    "        print('검색값을 갖는 원소가 존재하지 않습니다.')\n",
    "    else:\n",
    "        print(f'검색값은 x[{idx}]에 있습니다')"
   ]
  },
  {
   "cell_type": "code",
   "execution_count": null,
   "outputs": [],
   "source": [
    "# for문으로 작성한 선형 검색 알고리즘\n",
    "\n",
    "from typing import Any, Sequence\n",
    "\n",
    "def seq_search(a: Sequence, key: Any) -> int:\n",
    "\n",
    "    for i in range(len(a)):\n",
    "        if a[i] == key:\n",
    "            return i\n",
    "    return -1\n",
    "\n",
    "if __name__ == '__main__':\n",
    "    num = int(input('원소 수를 입력하세요.: '))\n",
    "    x = [None] * num\n",
    "\n",
    "    for i in range(num):\n",
    "        x[i] = int(input(f'x[{i}]에 해당하는 값을 입력하세요.: '))\n",
    "\n",
    "    ky = int(input('찾을 값을 입력하세요.: '))\n",
    "\n",
    "    idx = seq_search(x, ky)\n",
    "\n",
    "    if idx == -1:\n",
    "        print('검색값을 갖는 원소가 존재하지 않습니다.')\n",
    "    else:\n",
    "        print(f'검색값은 x[{idx}]에 있습니다')"
   ],
   "metadata": {
    "collapsed": false,
    "pycharm": {
     "name": "#%%\n"
    }
   }
  },
  {
   "cell_type": "code",
   "execution_count": null,
   "outputs": [],
   "source": [
    "# 보초법으로 수정한 선형 알고리즘\n",
    "\n",
    "from typing import Any, Sequence"
   ],
   "metadata": {
    "collapsed": false,
    "pycharm": {
     "name": "#%%\n"
    }
   }
  }
 ],
 "metadata": {
  "kernelspec": {
   "display_name": "Python 3",
   "language": "python",
   "name": "python3"
  },
  "language_info": {
   "codemirror_mode": {
    "name": "ipython",
    "version": 2
   },
   "file_extension": ".py",
   "mimetype": "text/x-python",
   "name": "python",
   "nbconvert_exporter": "python",
   "pygments_lexer": "ipython2",
   "version": "2.7.6"
  }
 },
 "nbformat": 4,
 "nbformat_minor": 0
}