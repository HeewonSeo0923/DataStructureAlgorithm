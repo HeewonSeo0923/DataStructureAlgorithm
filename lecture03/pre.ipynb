{
 "cells": [
  {
   "cell_type": "code",
   "execution_count": 2,
   "metadata": {
    "collapsed": true
   },
   "outputs": [
    {
     "name": "stdout",
     "output_type": "stream",
     "text": [
      "검색값은 x[3]에 있습니다.\n"
     ]
    }
   ],
   "source": [
    "# while 문으로 작성한 선형 검색 알고리즘\n",
    "\n",
    "from typing import Any, Sequence\n",
    "\n",
    "def seq_search(a: Sequence, key: Any) -> int:\n",
    "    '''시퀀스 a에서 key의 값이 같은 원소를 선형 검색(while문을 사용해보자)'''\n",
    "    i = 0\n",
    "\n",
    "    while True:\n",
    "        if i == len(a):\n",
    "            return -1\n",
    "        if a[i] == key:\n",
    "            return i\n",
    "        i += 1\n",
    "\n",
    "if __name__ == '__main__':\n",
    "    num = int(input('원소 수를 입력하세요.: '))\n",
    "    x = [None] * num\n",
    "\n",
    "    for i in range(num):\n",
    "        x[i] = int(input(f'x[{i}]: '))\n",
    "\n",
    "    ky = int(input('검색할 값을 입력하세요.: '))\n",
    "\n",
    "    idx = seq_search(x, ky)\n",
    "\n",
    "    if idx == -1:\n",
    "        print('검색값을 갖는 원소가 존재하지 않습니다.')\n",
    "    else :\n",
    "        print(f'검색값은 x[{idx}]에 있습니다.')"
   ]
  },
  {
   "cell_type": "code",
   "execution_count": 5,
   "metadata": {
    "collapsed": false,
    "pycharm": {
     "name": "#%%\n"
    }
   },
   "outputs": [],
   "source": [
    "# for문으로 작성한 선형 검색 알고리즘\n",
    "\n",
    "from typing import Any, Sequence\n",
    "\n",
    "def seq_search(a: Sequence, key: Any) -> int:\n",
    "    for i in range(len(a)):\n",
    "        if a[i] == key:\n",
    "            return i\n",
    "        return -1"
   ]
  },
  {
   "cell_type": "code",
   "execution_count": 7,
   "metadata": {
    "collapsed": false,
    "pycharm": {
     "name": "#%%\n"
    }
   },
   "outputs": [
    {
     "name": "stdout",
     "output_type": "stream",
     "text": [
      "실수를 검색합니다.\n",
      "주의 : \"End\"를 입력하면 종료됩니다.\n",
      "검색값은 x[2]에 있습니다.\n"
     ]
    }
   ],
   "source": [
    "# seq_search() 함수를 사용해서 특정 인덱스를 검색해보자\n",
    "\n",
    "from sserch_while import seq_search\n",
    "\n",
    "print('실수를 검색합니다.')\n",
    "print('주의 : \"End\"를 입력하면 종료됩니다.')\n",
    "\n",
    "number = 0\n",
    "x = []\n",
    "\n",
    "while True:\n",
    "    s = input(f'x[{number}]: ')\n",
    "    if s == 'End':\n",
    "        break\n",
    "    x.append(float(s))\n",
    "    number += 1\n",
    "\n",
    "ky = float(input('검색할 값을 입력하세요.: '))\n",
    "\n",
    "idx = seq_search(x, ky)\n",
    "if idx == -1:\n",
    "    print('검색값을 찾는 원소가 존재하지 않습니다.')\n",
    "else:\n",
    "    print(f'검색값은 x[{idx}]에 있습니다.')"
   ]
  },
  {
   "cell_type": "code",
   "execution_count": 11,
   "metadata": {
    "collapsed": false,
    "pycharm": {
     "name": "#%%\n"
    }
   },
   "outputs": [
    {
     "name": "stdout",
     "output_type": "stream",
     "text": [
      "(4, 7, 5.6, 2, 3.14, 1)에서 5.6의 인덱스는 2입니다.\n",
      "string에서 \"n\"의 인덱스는 4입니다.\n",
      "['DTS', 'AAC', 'FLAC']에서 \"DTS\"의 인덱스는 0입니다.\n"
     ]
    }
   ],
   "source": [
    "# seq_search()를 이용해 특정 인덱스 검색해보기\n",
    "\n",
    "from sserch_while import seq_search\n",
    "\n",
    "t = (4,7,5.6,2,3.14,1)\n",
    "s = 'string'\n",
    "a = ['DTS', 'AAC', 'FLAC']\n",
    "\n",
    "print(f'{t}에서 5.6의 인덱스는 {seq_search(t, 5.6)}입니다.')\n",
    "print(f'{s}에서 \"n\"의 인덱스는 {seq_search(s, \"n\")}입니다.')\n",
    "print(f'{a}에서 \"DTS\"의 인덱스는 {seq_search(a, \"DTS\")}입니다.')"
   ]
  },
  {
   "cell_type": "code",
   "execution_count": 12,
   "metadata": {
    "collapsed": false,
    "pycharm": {
     "name": "#%%\n"
    }
   },
   "outputs": [
    {
     "name": "stdout",
     "output_type": "stream",
     "text": [
      "검색값은 x[3]에 위치합니다\n"
     ]
    }
   ],
   "source": [
    "# 선형 검색 알고리즘 보초법으로 수정해보기\n",
    "\n",
    "from typing import Any, Sequence\n",
    "import copy\n",
    "\n",
    "def seq_search(seq: Sequence, key:Any) -> int:\n",
    "    '''시퀀스 seq에서 key와 일치하는 원소를 선형 검색 (보초법)'''\n",
    "    a = copy.deepcopy(seq)\n",
    "    a.append(key)\n",
    "\n",
    "    i = 0\n",
    "    while True:\n",
    "        if a[i] == key:\n",
    "            break\n",
    "        i += 1\n",
    "    return -1 if i == len(seq) else i\n",
    "\n",
    "if __name__ == '__main__':\n",
    "    num = int(input('원소 수를 입력하세요: '))\n",
    "    x = [None] * num\n",
    "\n",
    "    for i in range(num):\n",
    "        x[i] = int(input(f'x[{i}]: '))\n",
    "\n",
    "    ky = int(input('검색할 값을 입력하세요.: '))\n",
    "\n",
    "    idx = seq_search(x, ky)\n",
    "\n",
    "    if idx ==-1:\n",
    "        print('검색값을 갖는 원소가 존재하지 않는다')\n",
    "    else:\n",
    "        print(f'검색값은 x[{idx}]에 위치합니다')"
   ]
  },
  {
   "cell_type": "code",
   "execution_count": 14,
   "metadata": {
    "collapsed": false,
    "pycharm": {
     "name": "#%%\n"
    }
   },
   "outputs": [],
   "source": [
    "from typing import Any, Sequence\n",
    "\n",
    "def book_search(a: Sequence, key: Any)-> int:\n",
    "    pl = 1\n",
    "    pr = len(a)\n",
    "\n",
    "    while True:\n",
    "        count = 0\n",
    "        pc = (pl + pr) // 2\n",
    "        count += 1\n",
    "        if a[pc] == key:\n",
    "            return count\n",
    "        elif a[pc] < key:\n",
    "            pl = pc + 1\n",
    "        else:\n",
    "            pr = pc- 1"
   ]
  },
  {
   "cell_type": "code",
   "execution_count": 15,
   "metadata": {
    "collapsed": false,
    "pycharm": {
     "name": "#%%\n"
    }
   },
   "outputs": [
    {
     "ename": "TypeError",
     "evalue": "object of type 'int' has no len()",
     "output_type": "error",
     "traceback": [
      "\u001B[1;31m---------------------------------------------------------------------------\u001B[0m",
      "\u001B[1;31mTypeError\u001B[0m                                 Traceback (most recent call last)",
      "Input \u001B[1;32mIn [15]\u001B[0m, in \u001B[0;36m<cell line: 1>\u001B[1;34m()\u001B[0m\n\u001B[0;32m      3\u001B[0m aFind \u001B[38;5;241m=\u001B[39m \u001B[38;5;28mint\u001B[39m(\u001B[38;5;28minput\u001B[39m(\u001B[38;5;124m'\u001B[39m\u001B[38;5;124mA가 찾을 페이지를 입력하세요.: \u001B[39m\u001B[38;5;124m'\u001B[39m))\n\u001B[0;32m      4\u001B[0m bFind \u001B[38;5;241m=\u001B[39m \u001B[38;5;28mint\u001B[39m(\u001B[38;5;28minput\u001B[39m(\u001B[38;5;124m'\u001B[39m\u001B[38;5;124mB가 찾을 페이지를 입력하세요.: \u001B[39m\u001B[38;5;124m'\u001B[39m))\n\u001B[1;32m----> 6\u001B[0m aResult \u001B[38;5;241m=\u001B[39m \u001B[43mbook_search\u001B[49m\u001B[43m(\u001B[49m\u001B[43mpage\u001B[49m\u001B[43m,\u001B[49m\u001B[43m \u001B[49m\u001B[43maFind\u001B[49m\u001B[43m)\u001B[49m\n\u001B[0;32m      7\u001B[0m bResult \u001B[38;5;241m=\u001B[39m book_search(page, bFind)\n",
      "Input \u001B[1;32mIn [14]\u001B[0m, in \u001B[0;36mbook_search\u001B[1;34m(a, key)\u001B[0m\n\u001B[0;32m      1\u001B[0m \u001B[38;5;28;01mdef\u001B[39;00m \u001B[38;5;21mbook_search\u001B[39m(a, key):\n\u001B[0;32m      2\u001B[0m     pl \u001B[38;5;241m=\u001B[39m \u001B[38;5;241m1\u001B[39m\n\u001B[1;32m----> 3\u001B[0m     pr \u001B[38;5;241m=\u001B[39m \u001B[38;5;28;43mlen\u001B[39;49m\u001B[43m(\u001B[49m\u001B[43ma\u001B[49m\u001B[43m)\u001B[49m\n\u001B[0;32m      5\u001B[0m     \u001B[38;5;28;01mwhile\u001B[39;00m \u001B[38;5;28;01mTrue\u001B[39;00m:\n\u001B[0;32m      6\u001B[0m         count \u001B[38;5;241m=\u001B[39m \u001B[38;5;241m0\u001B[39m\n",
      "\u001B[1;31mTypeError\u001B[0m: object of type 'int' has no len()"
     ]
    }
   ],
   "source": [
    "if __name__ == '__main__':\n",
    "    page = int(input('책의 총 페이지를 입력하세요.: '))\n",
    "    aFind = int(input('A가 찾을 페이지를 입력하세요.: '))\n",
    "    bFind = int(input('B가 찾을 페이지를 입력하세요.: '))\n",
    "\n",
    "    aResult = book_search(page, aFind)\n",
    "    bResult = book_search(page, bFind)"
   ]
  },
  {
   "cell_type": "code",
   "execution_count": null,
   "metadata": {
    "collapsed": false,
    "pycharm": {
     "name": "#%%\n"
    }
   },
   "outputs": [],
   "source": [
    "    if aResult > bResult :\n",
    "        print(f'# : A학생이 이겼습니다.')\n",
    "    if aResult < bResult :\n",
    "        print(f'# : B학생이 이겼습니다.')\n",
    "    if bResult== bResult:\n",
    "        print(f'# : 0 - 두 학생은 비겼습니다.')\n",
    "# a, b, 0 지정, test case 개수 지정"
   ]
  },
  {
   "cell_type": "code",
   "execution_count": null,
   "metadata": {},
   "outputs": [],
   "source": [
    "# While 문을 이용한 선형 검색 알고리즘\n",
    "\n",
    "from typing import Any, Sequence\n",
    "\n",
    "def seqSearch(a : Sequence, key : Any) -> int:\n",
    "    '''시퀀스 a에서 key와 같이 원소를 선형 검색(while문)'''\n",
    "    i = 0\n",
    "\n",
    "    while True :\n",
    "        if i == len(a):\n",
    "            return -1   # 검색 실패하여 i 반환\n",
    "        if a[i] == key:\n",
    "            return i   # 검색에 성공하여 현재 검사한 배열의 인덱스를 반환\n",
    "        i += 1\n",
    "\n",
    "if __name__ == '__main__':\n",
    "    num = int(input('원소 수를 입력하세요: '))   # num값을 입력받는다.\n",
    "    x = [None] * num\n",
    "    "
   ]
  },
  {
   "cell_type": "code",
   "execution_count": null,
   "metadata": {},
   "outputs": [],
   "source": []
  }
 ],
 "metadata": {
  "kernelspec": {
   "display_name": "Python 3",
   "language": "python",
   "name": "python3"
  },
  "language_info": {
   "codemirror_mode": {
    "name": "ipython",
    "version": 3
   },
   "file_extension": ".py",
   "mimetype": "text/x-python",
   "name": "python",
   "nbconvert_exporter": "python",
   "pygments_lexer": "ipython3",
   "version": "3.9.7"
  }
 },
 "nbformat": 4,
 "nbformat_minor": 0
}