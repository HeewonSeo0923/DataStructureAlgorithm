{
 "cells": [
  {
   "cell_type": "code",
   "execution_count": 1,
   "metadata": {
    "collapsed": true
   },
   "outputs": [],
   "source": [
    "def binarySearch(p,key):\n",
    "    start = 1\n",
    "    end = p\n",
    "    count = 0\n",
    "    while start <= end:\n",
    "        index = (start + end) //2\n",
    "        count += 1\n",
    "        if index == key:\n",
    "            return count\n",
    "        elif index < key :\n",
    "            start = index\n",
    "        elif index > key:\n",
    "            end = index\n",
    "    return -1"
   ]
  },
  {
   "cell_type": "code",
   "execution_count": 2,
   "outputs": [
    {
     "name": "stdout",
     "output_type": "stream",
     "text": [
      "A win\n"
     ]
    }
   ],
   "source": [
    "T = int(input('게임을 시작할 횟수를 입력하세요.: '))\n",
    "for t in range(1, T + 1):\n",
    "    p = int(input('전체 페이지 수 : '))\n",
    "    a = int(input('A학생 선택 페이지'))\n",
    "    b = int(input('B학생 선택 페이지'))\n",
    "    a_c = binarySearch(p, a)\n",
    "    b_c = binarySearch(p, b)\n",
    "    result = ''\n",
    "    if a_c < b_c:\n",
    "        result = 'A win'\n",
    "    elif a_c > b_c:\n",
    "        result = 'B win'\n",
    "    else:\n",
    "        result = \"DRAW\"\n",
    "    print(result)"
   ],
   "metadata": {
    "collapsed": false,
    "pycharm": {
     "name": "#%%\n"
    }
   }
  }
 ],
 "metadata": {
  "kernelspec": {
   "display_name": "Python 3",
   "language": "python",
   "name": "python3"
  },
  "language_info": {
   "codemirror_mode": {
    "name": "ipython",
    "version": 2
   },
   "file_extension": ".py",
   "mimetype": "text/x-python",
   "name": "python",
   "nbconvert_exporter": "python",
   "pygments_lexer": "ipython2",
   "version": "2.7.6"
  }
 },
 "nbformat": 4,
 "nbformat_minor": 0
}