{
 "cells": [
  {
   "cell_type": "code",
   "execution_count": 1,
   "metadata": {
    "collapsed": true,
    "pycharm": {
     "name": "#%%\n"
    }
   },
   "outputs": [],
   "source": [
    "class stack :\n",
    "    def __init__(self):  # 스택 객체 생성\n",
    "        self.items = []\n",
    "    def push(self, item):   # 스택 요소 추가\n",
    "        self.items.append(item)\n",
    "    def pop(self):   # 스택 요소 삭제\n",
    "        return self.items.pop()\n",
    "    def peek(self):   # 스택 맨 앞 요소 리턴\n",
    "        return self.items[0]\n",
    "    def isEmpty(self): # 스택이 비었는지 확인하고 비었으면 돌려준다\n",
    "        return not self.items        # return len(self.items) == 0"
   ]
  },
  {
   "cell_type": "code",
   "execution_count": null,
   "outputs": [],
   "source": [],
   "metadata": {
    "collapsed": false,
    "pycharm": {
     "name": "#%%\n"
    }
   }
  }
 ],
 "metadata": {
  "kernelspec": {
   "display_name": "Python 3",
   "language": "python",
   "name": "python3"
  },
  "language_info": {
   "codemirror_mode": {
    "name": "ipython",
    "version": 2
   },
   "file_extension": ".py",
   "mimetype": "text/x-python",
   "name": "python",
   "nbconvert_exporter": "python",
   "pygments_lexer": "ipython2",
   "version": "2.7.6"
  }
 },
 "nbformat": 4,
 "nbformat_minor": 0
}