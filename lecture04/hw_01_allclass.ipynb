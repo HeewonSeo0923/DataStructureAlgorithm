{
 "cells": [
  {
   "cell_type": "code",
   "execution_count": 4,
   "id": "def382b3",
   "metadata": {},
   "outputs": [
    {
     "name": "stdout",
     "output_type": "stream",
     "text": [
      "원준 [1, 8, 7, 5, 2, 8, 1, 1, 8, 2, 5, 8, 2, 4, 4, 1, 2, 1, 7, 4, 7, 5, 7, 5, 8, 1, 5, 5, 4, 2, 4, 4, 2, 8, 4, 8, 4, 5, 7, 7, 8, 2, 5, 2, 1, 2, 1, 2, 7, 2, 7, 1, 7, 5, 1, 5, 2, 8, 4, 5, 7, 4, 8, 1, 5, 4, 7, 4, 4, 8, 4, 1, 8, 7, 7, 4, 2, 7, 1, 1, 7, 8, 4, 8, 8, 2, 7, 5, 2, 5, 7, 4, 8, 5, 8, 8, 8, 5, 5, 7, 4, 5, 4, 2, 7, 4, 2, 2, 5, 5, 2, 7, 1, 4, 1, 7, 8, 7, 4, 2, 4]\n",
      "동덕 [5, 1, 2, 4, 1, 2, 1, 5, 1, 4, 2, 5, 8, 1, 2, 7, 5, 4, 4, 1, 7, 4, 5, 1, 5, 8, 2, 4, 7, 1, 1, 7, 4, 8, 1, 1, 5, 7, 8, 4, 7, 7, 7, 4, 1, 7, 5, 4, 7, 5, 7, 2, 2, 7, 2, 1, 2, 8, 2, 1, 7, 1, 7, 2, 5, 5, 1, 8, 2, 5, 2, 2, 5, 4, 2, 5, 4, 4, 5, 7, 4, 5, 1, 5, 7, 2, 7, 8, 2, 7]\n",
      "원준 총합 : 1\n",
      "동덕 총합 : 5\n"
     ]
    }
   ],
   "source": [
    "# 추가구현 : random으로 동덕이와 원준이의 숫자를 불러옴 input 안받았음 \n",
    "\n",
    "import random\n",
    "class Stack(list):\n",
    "    push = list.append  # 데이터 삽입\n",
    "    dele = list.pop # 최상단 데이터 삭제\n",
    "    def isEmpty(self): # 데이터 없는지 확인\n",
    "        if not self:\n",
    "            return True\n",
    "        else:\n",
    "            return False\n",
    "\n",
    "    def peek(self): # 최상단 데이터 확인\n",
    "        return self[-1]\n",
    "\n",
    "    def top(self):\n",
    "        print\n",
    "    \n",
    "    def Sum(self):\n",
    "        SSum = 0\n",
    "        for k in range (0, len(self)):\n",
    "            SSum += self[k]\n",
    "            return SSum\n",
    "        \n",
    "if __name__ == '__main__': \n",
    "    ws = Stack() # 원준 스택 기본설정\n",
    "    ds = Stack() # 동덕 스텍 기본설정\n",
    "    dSum = 0\n",
    "    wSum = 0 # 총합은 둘다 0으로 둬야지 \n",
    "    n = int(input('실행 횟수를 입력하세요.: '))\n",
    "    for N in range(1, n + 1):\n",
    "        if N % 2 == 1: # 홀수 -> 원준 시작\n",
    "            w = random.randint(1,9) # 랜덤 호출\n",
    "            if w % 3 == 0: # 3의 배수는 3으로 나누었을때 나머지가 0나와야지\n",
    "                if len(ws)== 0: # 스택 비었을 경우 오류 방지\n",
    "                    pass\n",
    "                else:\n",
    "                    ws.dele() # 이경우 삭제처리\n",
    "            else:\n",
    "                ws.push(w) # 아니면 집어넣어\n",
    "            \n",
    "        else:\n",
    "            d = random.randint(1, 9) # 똑같이 랜덤\n",
    "            if d % 3 == 0: # 3의배수\n",
    "                if len(ds) == 0 : # 오류방지\n",
    "                    pass\n",
    "                else: \n",
    "                    ds.dele() # 3의배수 전 삭제처리\n",
    "                \n",
    "            else:    \n",
    "                ds.push(d) # 아닐경우 집어넣기\n",
    "    print(\"원준\",ws)\n",
    "    print(\"동덕\", ds)\n",
    "\n",
    "    wSum = ws.Sum() #원준합\n",
    "    dSum = ds.Sum() #동덕합\n",
    "        \n",
    "    print(f\"원준 총합 : {wSum}\")\n",
    "    print(f'동덕 총합 : {dSum}')"
   ]
  },
  {
   "cell_type": "code",
   "execution_count": 1,
   "outputs": [],
   "source": [],
   "metadata": {
    "collapsed": false,
    "pycharm": {
     "name": "#%%\n"
    }
   }
  },
  {
   "cell_type": "code",
   "execution_count": null,
   "outputs": [],
   "source": [],
   "metadata": {
    "collapsed": false,
    "pycharm": {
     "name": "#%%\n"
    }
   }
  }
 ],
 "metadata": {
  "kernelspec": {
   "display_name": "Python 3 (ipykernel)",
   "language": "python",
   "name": "python3"
  },
  "language_info": {
   "codemirror_mode": {
    "name": "ipython",
    "version": 3
   },
   "file_extension": ".py",
   "mimetype": "text/x-python",
   "name": "python",
   "nbconvert_exporter": "python",
   "pygments_lexer": "ipython3",
   "version": "3.9.7"
  }
 },
 "nbformat": 4,
 "nbformat_minor": 5
}