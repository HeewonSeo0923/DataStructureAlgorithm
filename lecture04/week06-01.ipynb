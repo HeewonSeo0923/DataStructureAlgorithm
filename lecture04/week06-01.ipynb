{
 "cells": [
  {
   "cell_type": "code",
   "execution_count": 2,
   "outputs": [],
   "source": [
    "# 클래스 활용 (2)\n",
    "# 소개 기능 구현 (3)\n",
    "# 추가 기능 가산점 (1) (백업용)"
   ],
   "metadata": {
    "collapsed": false,
    "pycharm": {
     "name": "#%%\n"
    }
   }
  },
  {
   "cell_type": "code",
   "execution_count": 5,
   "outputs": [
    {
     "ename": "IndentationError",
     "evalue": "expected an indented block (1781244905.py, line 8)",
     "output_type": "error",
     "traceback": [
      "\u001B[1;36m  Input \u001B[1;32mIn [5]\u001B[1;36m\u001B[0m\n\u001B[1;33m    \u001B[0m\n\u001B[1;37m    ^\u001B[0m\n\u001B[1;31mIndentationError\u001B[0m\u001B[1;31m:\u001B[0m expected an indented block\n"
     ]
    }
   ],
   "source": [
    "from typing import Any\n",
    "class stack(list):\n",
    "    def __init__(self, capacity: int = 256) -> None:\n",
    "        '''스택 초기화'''\n",
    "        self.stk = [None] * capacity         # 스택 본체\n",
    "        self.capacity = capacity             # 스택 크기기\n",
    "        self.ptr = 0\n",
    "    def push(self, item):\n",
    "        self.append(item)\n",
    "    def pop(self, item):\n",
    "        return self.item.pop()\n",
    "    def find(self, item: Any) -> bool:\n",
    "        for i in range(self.ptr -1, -1, -1):\n",
    "            if self.stk[i] == item:\n",
    "                return i\n",
    "        return -1\n"
   ],
   "metadata": {
    "collapsed": false,
    "pycharm": {
     "name": "#%%\n"
    }
   }
  },
  {
   "cell_type": "code",
   "execution_count": 1,
   "outputs": [],
   "source": [
    "class Stack(list):\n",
    "    push = list.append  # 데이터 삽입\n",
    "    dele = list.pop # 최상단 데이터 삭제\n",
    "    def isEmpty(self): # 데이터 없는지 확인\n",
    "        if not self:\n",
    "            return True\n",
    "        else:\n",
    "            return False\n",
    "\n",
    "    def peek(self): # 최상단 데이터 확인\n",
    "        return self[-1]"
   ],
   "metadata": {
    "collapsed": false,
    "pycharm": {
     "name": "#%%\n"
    }
   }
  },
  {
   "cell_type": "code",
   "execution_count": 5,
   "outputs": [
    {
     "name": "stdout",
     "output_type": "stream",
     "text": [
      "5 4 3 2 1 "
     ]
    }
   ],
   "source": [
    "if __name__ == \"__main__\":\n",
    "    s = Stack()\n",
    "    for i in range(1,6):\n",
    "        s.push(i)\n",
    "\n",
    "    while s:\n",
    "        data = s.dele()\n",
    "        print(data, end = ' ')"
   ],
   "metadata": {
    "collapsed": false,
    "pycharm": {
     "name": "#%%\n"
    }
   }
  },
  {
   "cell_type": "code",
   "execution_count": null,
   "outputs": [],
   "source": [
    "class Stack(list):\n",
    "    push = list.append  # 데이터 삽입\n",
    "    dele = list.pop # 최상단 데이터 삭제\n",
    "    def isEmpty(self): # 데이터 없는지 확인\n",
    "        if not self:\n",
    "            return True\n",
    "        else:\n",
    "            return False\n",
    "\n",
    "    def peek(self): # 최상단 데이터 확인\n",
    "        return self[-1]\n",
    "\n",
    "    def top(self):\n",
    "        print"
   ],
   "metadata": {
    "collapsed": false,
    "pycharm": {
     "name": "#%%\n"
    }
   }
  },
  {
   "cell_type": "code",
   "execution_count": 4,
   "outputs": [
    {
     "ename": "NameError",
     "evalue": "name 'stack' is not defined",
     "output_type": "error",
     "traceback": [
      "\u001B[1;31m---------------------------------------------------------------------------\u001B[0m",
      "\u001B[1;31mNameError\u001B[0m                                 Traceback (most recent call last)",
      "Input \u001B[1;32mIn [4]\u001B[0m, in \u001B[0;36m<cell line: 1>\u001B[1;34m()\u001B[0m\n\u001B[1;32m----> 1\u001B[0m \u001B[38;5;28;01mclass\u001B[39;00m \u001B[38;5;21;01mStack\u001B[39;00m(\u001B[43mstack\u001B[49m):\n\u001B[0;32m      2\u001B[0m     \u001B[38;5;28;01mdef\u001B[39;00m \u001B[38;5;21mpush\u001B[39m(n):\n\u001B[0;32m      3\u001B[0m         stack\u001B[38;5;241m.\u001B[39mappend(n)\n",
      "\u001B[1;31mNameError\u001B[0m: name 'stack' is not defined"
     ]
    }
   ],
   "source": [
    "\n",
    "\n",
    "def push(n):\n",
    "    stack.append(n)\n",
    "\n",
    "def pop():\n",
    "    if(len(stack) == 0):\n",
    "        return -1\n",
    "    else:\n",
    "        return stack.pop()\n",
    "\n",
    "def size():\n",
    "    return len(stack)\n",
    "\n",
    "def empty():\n",
    "    return 0 if stack else 1\n",
    "\n",
    "def top():\n",
    "    return stack[-1] if stack else -1"
   ],
   "metadata": {
    "collapsed": false,
    "pycharm": {
     "name": "#%%\n"
    }
   }
  },
  {
   "cell_type": "code",
   "execution_count": null,
   "outputs": [],
   "source": [],
   "metadata": {
    "collapsed": false,
    "pycharm": {
     "name": "#%%\n"
    }
   }
  }
 ],
 "metadata": {
  "kernelspec": {
   "display_name": "Python 3",
   "language": "python",
   "name": "python3"
  },
  "language_info": {
   "codemirror_mode": {
    "name": "ipython",
    "version": 2
   },
   "file_extension": ".py",
   "mimetype": "text/x-python",
   "name": "python",
   "nbconvert_exporter": "python",
   "pygments_lexer": "ipython2",
   "version": "2.7.6"
  }
 },
 "nbformat": 4,
 "nbformat_minor": 0
}