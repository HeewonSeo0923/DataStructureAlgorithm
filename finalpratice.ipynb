{
 "cells": [
  {
   "cell_type": "code",
   "execution_count": null,
   "metadata": {
    "collapsed": true
   },
   "outputs": [],
   "source": [
    "# 버블 정렬 알고리즘 구현\n",
    "\n",
    "from typing import MutableSequence\n",
    "\n",
    "def bubbleSort(a: MutableSequence) -> None:\n",
    "    '''버블 정렬'''\n",
    "    n = len(a)\n",
    "    for i in range(n-1):\n",
    "        for j in range(n-1, i, -1):\n",
    "            if a[j - 1] > a[j]:\n",
    "                a[j - 1], a[j] = a[j], a[j - 1]\n",
    "\n",
    "if __name__ == '__main__':\n",
    "    print('버블 정렬을 수행합니다.')\n",
    "    num = int(input('원소 수를 입력하세요.: '))\n"
   ]
  }
 ],
 "metadata": {
  "interpreter": {
   "hash": "c6a00425f0716bae14950c8cdbc40daa736263caaaa0610752c60b0b499a1d42"
  },
  "kernelspec": {
   "display_name": "Python 3.9.7 ('base')",
   "language": "python",
   "name": "python3"
  },
  "language_info": {
   "codemirror_mode": {
    "name": "ipython",
    "version": 2
   },
   "file_extension": ".py",
   "mimetype": "text/x-python",
   "name": "python",
   "nbconvert_exporter": "python",
   "pygments_lexer": "ipython2",
   "version": "3.9.7"
  }
 },
 "nbformat": 4,
 "nbformat_minor": 0
}
