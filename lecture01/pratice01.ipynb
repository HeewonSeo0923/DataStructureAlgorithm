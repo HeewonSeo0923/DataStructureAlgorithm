{
 "cells": [
  {
   "cell_type": "code",
   "execution_count": 2,
   "metadata": {
    "collapsed": true
   },
   "outputs": [
    {
     "name": "stdout",
     "output_type": "stream",
     "text": [
      "세 정수의 최댓값을 구합니다.\n",
      "최댓값은 3입니다\n"
     ]
    }
   ],
   "source": [
    "# 세 정수의 최댓값 구하기\n",
    "\n",
    "print('세 정수의 최댓값을 구합니다.')\n",
    "\n",
    "a = int(input('정수입력  : '))\n",
    "b = int(input('정수입력  : '))\n",
    "c = int(input('정수입력  : '))\n",
    "\n",
    "max = a\n",
    "if max < b : max = b\n",
    "if max < c : max = c\n",
    "\n",
    "print(f'최댓값은 {max}입니다')"
   ]
  },
  {
   "cell_type": "code",
   "execution_count": 3,
   "outputs": [
    {
     "name": "stdout",
     "output_type": "stream",
     "text": [
      "0\n"
     ]
    }
   ],
   "source": [
    "# 입력받은 정수의 부호 (양수, 음수, 0)을 판단하여 출력하는 프로그램\n",
    "\n",
    "n = int(input('부호 판단 : '))\n",
    "\n",
    "if n > 0 :\n",
    "    print('양수')\n",
    "elif n < 0 :\n",
    "    print('음수')\n",
    "else :\n",
    "    print('0')"
   ],
   "metadata": {
    "collapsed": false,
    "pycharm": {
     "name": "#%%\n"
    }
   }
  },
  {
   "cell_type": "code",
   "execution_count": 4,
   "outputs": [
    {
     "name": "stdout",
     "output_type": "stream",
     "text": [
      "1부터 n까지 정수의 합을 구합니다.\n",
      "총합 : 15\n"
     ]
    }
   ],
   "source": [
    "# 1부터 까지 정수의 합 구하기\n",
    "\n",
    "print('1부터 n까지 정수의 합을 구합니다.')\n",
    "n = int(input('n값 : '))\n",
    "\n",
    "sum = 0\n",
    "i = 1\n",
    "\n",
    "while i <= n:\n",
    "    sum += i\n",
    "    i += 1\n",
    "\n",
    "print(f'총합 : {sum}')"
   ],
   "metadata": {
    "collapsed": false,
    "pycharm": {
     "name": "#%%\n"
    }
   }
  },
  {
   "cell_type": "code",
   "execution_count": 5,
   "outputs": [
    {
     "name": "stdout",
     "output_type": "stream",
     "text": [
      "1부터 n까지 정수의 합을 구합니다.\n",
      "총합 : 15\n"
     ]
    }
   ],
   "source": [
    "# 1부터 까지 정수의 합 구하기\n",
    "\n",
    "print('1부터 n까지 정수의 합을 구합니다.')\n",
    "n = int(input('n값 : '))\n",
    "\n",
    "sum = 0\n",
    "i = 1\n",
    "\n",
    "for i in range(1, n+1):\n",
    "    sum += i\n",
    "\n",
    "print(f'총합 : {sum}')"
   ],
   "metadata": {
    "collapsed": false,
    "pycharm": {
     "name": "#%%\n"
    }
   }
  },
  {
   "cell_type": "code",
   "execution_count": 9,
   "outputs": [
    {
     "name": "stdout",
     "output_type": "stream",
     "text": [
      "a부터 b까지 정수의 합을 구합니다.\n",
      "총합 : 33\n"
     ]
    }
   ],
   "source": [
    "# a부터 b까지의 정수의 합 하기\n",
    "\n",
    "print('a부터 b까지 정수의 합을 구합니다.')\n",
    "a = int(input('정수 a : '))\n",
    "b = int(input('정수 b : '))\n",
    "\n",
    "## a값부터 시작하니 당연히 전제는 a가 작아야 함\n",
    "## a가 클 경우에는 이를 바로잡아야한다.\n",
    "\n",
    "if a > b :\n",
    "    a,b = b, a\n",
    "\n",
    "sum = 0\n",
    "for i in range(a, b+1):\n",
    "    sum += i\n",
    "\n",
    "print(f'총합 : {sum}')"
   ],
   "metadata": {
    "collapsed": false,
    "pycharm": {
     "name": "#%%\n"
    }
   }
  },
  {
   "cell_type": "code",
   "execution_count": 16,
   "outputs": [
    {
     "name": "stdout",
     "output_type": "stream",
     "text": [
      "a부터 b까지 정수의 합을 구합니다.\n",
      "3 + 4 + 5 + 6 + 7 + 8 =33\n"
     ]
    }
   ],
   "source": [
    "# a부터 b까지의 정수의 합 하기\n",
    "\n",
    "print('a부터 b까지 정수의 합을 구합니다.')\n",
    "a = int(input('정수 a : '))\n",
    "b = int(input('정수 b : '))\n",
    "\n",
    "## a값부터 시작하니 당연히 전제는 a가 작아야 함\n",
    "## a가 클 경우에는 이를 바로잡아야한다.\n",
    "\n",
    "if a > b :\n",
    "    a,b = b, a\n",
    "\n",
    "sum = 0\n",
    "for i in range(a, b+1):\n",
    "    sum += i\n",
    "    if i < b:\n",
    "        print(f'{i} + ' , end='')\n",
    "    if i == b:\n",
    "        print(f'{i} = ', end='')\n",
    "\n",
    "print(sum)"
   ],
   "metadata": {
    "collapsed": false,
    "pycharm": {
     "name": "#%%\n"
    }
   }
  },
  {
   "cell_type": "code",
   "execution_count": 17,
   "outputs": [
    {
     "name": "stdout",
     "output_type": "stream",
     "text": [
      "a부터 b까지 정수의 합을 구합니다.\n",
      "3 + 4 + 5 + 6 + 7 + 8 = 33\n"
     ]
    }
   ],
   "source": [
    "# a부터 b까지의 정수의 합 하기\n",
    "\n",
    "print('a부터 b까지 정수의 합을 구합니다.')\n",
    "a = int(input('정수 a : '))\n",
    "b = int(input('정수 b : '))\n",
    "\n",
    "## a값부터 시작하니 당연히 전제는 a가 작아야 함\n",
    "## a가 클 경우에는 이를 바로잡아야한다.\n",
    "\n",
    "if a > b :\n",
    "    a,b = b, a\n",
    "\n",
    "sum = 0\n",
    "for i in range(a, b):\n",
    "    sum += i\n",
    "    print(f'{i} + ' , end='')\n",
    "\n",
    "print(f'{b} = ', end='')\n",
    "sum += b\n",
    "\n",
    "print(sum)"
   ],
   "metadata": {
    "collapsed": false,
    "pycharm": {
     "name": "#%%\n"
    }
   }
  },
  {
   "cell_type": "code",
   "execution_count": 19,
   "outputs": [
    {
     "name": "stdout",
     "output_type": "stream",
     "text": [
      "+- 동시출력\n",
      "+-+-+-+-+-+-\n"
     ]
    }
   ],
   "source": [
    "# i 홀수 -, 짝수 + 출력\n",
    "\n",
    "print('+- 동시출력')\n",
    "n = int(input('개수'))\n",
    "\n",
    "for i in range(n):\n",
    "    if i % 2:\n",
    "        print('-', end='')\n",
    "    else:\n",
    "        print('+', end='')\n",
    "\n",
    "print()"
   ],
   "metadata": {
    "collapsed": false,
    "pycharm": {
     "name": "#%%\n"
    }
   }
  },
  {
   "cell_type": "code",
   "execution_count": 21,
   "outputs": [
    {
     "name": "stdout",
     "output_type": "stream",
     "text": [
      "+- 동시출력\n",
      "+-+-+-+-+-+-\n"
     ]
    }
   ],
   "source": [
    "# i 홀수 -, 짝수 + 출력\n",
    "\n",
    "print('+- 동시출력')\n",
    "n = int(input('개수'))\n",
    "\n",
    "for _ in range(n//2):\n",
    "    if i // 2:\n",
    "        print('+-', end='')\n",
    "\n",
    "if n % 2:\n",
    "    print('+', end = '')\n",
    "\n",
    "print()"
   ],
   "metadata": {
    "collapsed": false,
    "pycharm": {
     "name": "#%%\n"
    }
   }
  },
  {
   "cell_type": "code",
   "execution_count": 24,
   "outputs": [
    {
     "name": "stdout",
     "output_type": "stream",
     "text": [
      "*을 출력하자\n",
      "*****\n",
      "*****\n",
      "****\n"
     ]
    }
   ],
   "source": [
    "# 줄바꿈연습\n",
    "\n",
    "print('*을 출력하자')\n",
    "n = int(input('별 개수'))\n",
    "w = int(input('줄바꿈 기준 수'))\n",
    "\n",
    "for i in range(n):\n",
    "    print('*', end='')\n",
    "    ## 이부분 이해하고 기억하기\n",
    "    if i % w == w - 1:\n",
    "        print()\n",
    "\n",
    "if n % w :\n",
    "    print()"
   ],
   "metadata": {
    "collapsed": false,
    "pycharm": {
     "name": "#%%\n"
    }
   }
  },
  {
   "cell_type": "code",
   "execution_count": 25,
   "outputs": [
    {
     "name": "stdout",
     "output_type": "stream",
     "text": [
      "양수의 정수의 합 구하기\n",
      "결괏값 : 55\n"
     ]
    }
   ],
   "source": [
    "print('양수의 정수의 합 구하기')\n",
    "\n",
    "while True:\n",
    "    n = int(input('정수 값을 입력하세요.: '))\n",
    "    if n > 0 :\n",
    "        break\n",
    "\n",
    "sum = 0\n",
    "for i in range(1, n+1):\n",
    "    sum += i\n",
    "    i += 1\n",
    "\n",
    "print(f'결괏값 : {sum}')"
   ],
   "metadata": {
    "collapsed": false,
    "pycharm": {
     "name": "#%%\n"
    }
   }
  },
  {
   "cell_type": "code",
   "execution_count": 27,
   "outputs": [
    {
     "name": "stdout",
     "output_type": "stream",
     "text": [
      "1 X 32\n",
      "2 X 16\n",
      "4 X 8\n"
     ]
    }
   ],
   "source": [
    "area = int(input('넓이 : '))\n",
    "\n",
    "for i in range(1, area + 1):\n",
    "    if i * i > area:\n",
    "        break\n",
    "    if area % i : continue\n",
    "    print(f'{i} X {area // i}')"
   ],
   "metadata": {
    "collapsed": false,
    "pycharm": {
     "name": "#%%\n"
    }
   }
  },
  {
   "cell_type": "code",
   "execution_count": 28,
   "outputs": [
    {
     "name": "stdout",
     "output_type": "stream",
     "text": [
      "왼쪽 아래가 직각인 이등변삼각형\n",
      "*\n",
      "**\n",
      "***\n",
      "****\n",
      "*****\n"
     ]
    }
   ],
   "source": [
    "print('왼쪽 아래가 직각인 이등변삼각형')\n",
    "n = int(input('변의 길이 : '))\n",
    "\n",
    "for i in range(n):\n",
    "    for h in range(i + 1):\n",
    "        print('*', end='')\n",
    "    print()"
   ],
   "metadata": {
    "collapsed": false,
    "pycharm": {
     "name": "#%%\n"
    }
   }
  }
 ],
 "metadata": {
  "kernelspec": {
   "display_name": "Python 3",
   "language": "python",
   "name": "python3"
  },
  "language_info": {
   "codemirror_mode": {
    "name": "ipython",
    "version": 2
   },
   "file_extension": ".py",
   "mimetype": "text/x-python",
   "name": "python",
   "nbconvert_exporter": "python",
   "pygments_lexer": "ipython2",
   "version": "2.7.6"
  }
 },
 "nbformat": 4,
 "nbformat_minor": 0
}