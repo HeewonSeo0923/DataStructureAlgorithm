{
 "cells": [
  {
   "cell_type": "code",
   "execution_count": null,
   "id": "3871101a",
   "metadata": {},
   "outputs": [],
   "source": [
    "# 10진수 정수값을 입력받아 2~36진수로 변환하여 출력하기(실습 2-7 [A]수정)\n",
    "\n",
    "def card_conv(x: int, r: int) -> str:\n",
    "    '''정숫값 x를 r진수로 변환한 뒤 그 수를 나타내는 문자열을 반환'''\n",
    "    \n",
    "    d = ''                   # 변환 후의 문자열\n",
    "    dchar = '0123456789ABCDEFGHIJKLMNOPQRSTUVWXYZ'\n",
    "    n = len(str(X))          # 변환하기 전의 자릿수\n",
    "    \n",
    "    print(f'')"
   ]
  }
 ],
 "metadata": {
  "kernelspec": {
   "display_name": "Python 3 (ipykernel)",
   "language": "python",
   "name": "python3"
  },
  "language_info": {
   "codemirror_mode": {
    "name": "ipython",
    "version": 3
   },
   "file_extension": ".py",
   "mimetype": "text/x-python",
   "name": "python",
   "nbconvert_exporter": "python",
   "pygments_lexer": "ipython3",
   "version": "3.9.7"
  }
 },
 "nbformat": 4,
 "nbformat_minor": 5
}
