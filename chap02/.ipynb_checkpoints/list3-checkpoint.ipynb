{
 "cells": [
  {
   "cell_type": "code",
   "execution_count": 1,
   "id": "7aee9051",
   "metadata": {},
   "outputs": [
    {
     "name": "stdout",
     "output_type": "stream",
     "text": [
      "0번째 = John\n",
      "1번째 = George\n",
      "2번째 = Paul\n",
      "3번째 = Ringo\n"
     ]
    }
   ],
   "source": [
    "# 리스트의 모든 원소를 enumerate()함수로 스캔하기 (1부터 카운트)\n",
    "\n",
    "x = ['John', 'George', 'Paul', 'Ringo']\n",
    "\n",
    "\n",
    "for i,name in enumerate(x):\n",
    "    print(f'{i}번째 = {name}')"
   ]
  }
 ],
 "metadata": {
  "kernelspec": {
   "display_name": "Python 3 (ipykernel)",
   "language": "python",
   "name": "python3"
  },
  "language_info": {
   "codemirror_mode": {
    "name": "ipython",
    "version": 3
   },
   "file_extension": ".py",
   "mimetype": "text/x-python",
   "name": "python",
   "nbconvert_exporter": "python",
   "pygments_lexer": "ipython3",
   "version": "3.9.7"
  }
 },
 "nbformat": 4,
 "nbformat_minor": 5
}
