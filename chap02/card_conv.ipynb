{
 "cells": [
  {
   "cell_type": "code",
   "execution_count": 5,
   "id": "f5fae1c0",
   "metadata": {},
   "outputs": [
    {
     "name": "stdout",
     "output_type": "stream",
     "text": [
      "10진수를 n진수로 변환합니다.\n",
      "변환할 값으로 음이 아닌 정수를 입력하세요.: 29\n",
      "어떤 진수로 변환할까요 ?: 2\n",
      "2진수로는 11101입니다.\n",
      "한번 더 변환할까요?(Y... 예 / N... 아니요): n\n"
     ]
    }
   ],
   "source": [
    "# 10진수 정수값을 입력받아 2~36진수로 변환하여 출력하기\n",
    "\n",
    "def card_conv(x : int, r: int) -> str:\n",
    "    '''정숫값 x를 r진수로 변환한 뒤 그 수를 나타내는 문자열을 반환한다'''\n",
    "    \n",
    "    d = ''                                   # 변환 후의 문자열\n",
    "    dchar = '0123456789ABCDEFGHIJKLMNOPQRSTUVWSYZ'\n",
    "    \n",
    "    while x > 0 :\n",
    "        d += dchar[x % r]                    # 해당하는 문자를 꺼내 결합\n",
    "        x //= r\n",
    "        \n",
    "    return d[::-1]\n",
    "\n",
    "# [b]파트\n",
    "\n",
    "if __name__ == '__main__' :\n",
    "    print('10진수를 n진수로 변환합니다.')\n",
    "    \n",
    "    while True:\n",
    "        while True:    # 음이 아닌 정수를 입력받는다\n",
    "            no = int(input('변환할 값으로 음이 아닌 정수를 입력하세요.: '))\n",
    "            if no > 0:\n",
    "                break\n",
    "                \n",
    "        while True :     # 2~36진수의 정수값을 입력받음\n",
    "            cd = int(input('어떤 진수로 변환할까요 ?: '))\n",
    "            if 2<= cd <= 36:\n",
    "                break\n",
    "                \n",
    "        print(f'{cd}진수로는 {card_conv(no,cd)}입니다.')\n",
    "        \n",
    "        retry = input('한번 더 변환할까요?(Y... 예 / N... 아니요): ')\n",
    "        if retry in {'N', 'n'}:\n",
    "            break"
   ]
  },
  {
   "cell_type": "code",
   "execution_count": null,
   "id": "ed209636",
   "metadata": {},
   "outputs": [],
   "source": []
  }
 ],
 "metadata": {
  "kernelspec": {
   "display_name": "Python 3 (ipykernel)",
   "language": "python",
   "name": "python3"
  },
  "language_info": {
   "codemirror_mode": {
    "name": "ipython",
    "version": 3
   },
   "file_extension": ".py",
   "mimetype": "text/x-python",
   "name": "python",
   "nbconvert_exporter": "python",
   "pygments_lexer": "ipython3",
   "version": "3.9.7"
  }
 },
 "nbformat": 4,
 "nbformat_minor": 5
}
