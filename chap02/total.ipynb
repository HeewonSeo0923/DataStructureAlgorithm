{
 "cells": [
  {
   "cell_type": "code",
   "execution_count": 2,
   "id": "59b989ce",
   "metadata": {},
   "outputs": [
    {
     "name": "stdout",
     "output_type": "stream",
     "text": [
      "학생 그룹의 점수의 합계와 평균을 구합니다.\n",
      "1번 학생의 점수를 입력하세요.:32\n",
      "2번 학생의 점수를 입력하세요.:68\n",
      "3번 학생의 점수를 입력하세요.:72\n",
      "4번 학생의 점수를 입력하세요.:54\n",
      "5번 학생의 점수를 입력하세요.:92\n",
      "합계는 318점 입니다.\n",
      "평균은 63.6점 입니다.\n"
     ]
    }
   ],
   "source": [
    "# 학생 5명의 시험 점수를 입력받아 합계와 평균을 출력하기\n",
    "\n",
    "print('학생 그룹의 점수의 합계와 평균을 구합니다.')\n",
    "\n",
    "s1 = int(input('1번 학생의 점수를 입력하세요.:'))\n",
    "s2 = int(input('2번 학생의 점수를 입력하세요.:'))\n",
    "s3 = int(input('3번 학생의 점수를 입력하세요.:'))\n",
    "s4 = int(input('4번 학생의 점수를 입력하세요.:'))\n",
    "s5 = int(input('5번 학생의 점수를 입력하세요.:'))\n",
    "\n",
    "t = 0\n",
    "t += s1\n",
    "t += s2\n",
    "t += s3\n",
    "t += s4\n",
    "t += s5\n",
    "\n",
    "print(f'합계는 {t}점 입니다.')\n",
    "print(f'평균은 {t/5}점 입니다.')\n",
    "\n",
    "# 요구사항 : 학생수 변경, 특정 학생 점수 확인, 최저 최고점 구하기"
   ]
  }
 ],
 "metadata": {
  "kernelspec": {
   "display_name": "Python 3 (ipykernel)",
   "language": "python",
   "name": "python3"
  },
  "language_info": {
   "codemirror_mode": {
    "name": "ipython",
    "version": 3
   },
   "file_extension": ".py",
   "mimetype": "text/x-python",
   "name": "python",
   "nbconvert_exporter": "python",
   "pygments_lexer": "ipython3",
   "version": "3.9.7"
  }
 },
 "nbformat": 4,
 "nbformat_minor": 5
}
