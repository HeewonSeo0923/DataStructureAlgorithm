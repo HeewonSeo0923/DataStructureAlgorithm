{
 "cells": [
  {
   "cell_type": "code",
   "execution_count": 2,
   "id": "397bcbf5",
   "metadata": {},
   "outputs": [
    {
     "name": "stdout",
     "output_type": "stream",
     "text": [
      "배열 원소를 역순으로 정렬합니다\n",
      "원소 수를 입력하세요.: 7\n",
      "x[0]값을 입력하세요.: 3\n",
      "x[1]값을 입력하세요.: 4\n",
      "x[2]값을 입력하세요.: 5\n",
      "x[3]값을 입력하세요.: 6\n",
      "x[4]값을 입력하세요.: 7\n",
      "x[5]값을 입력하세요.: 1\n",
      "x[6]값을 입력하세요.: 2\n",
      "배열 원소를 역순으로 정렬했습니다.\n",
      "x[0] = 2\n",
      "x[1] = 1\n",
      "x[2] = 7\n",
      "x[3] = 6\n",
      "x[4] = 5\n",
      "x[5] = 4\n",
      "x[6] = 3\n"
     ]
    }
   ],
   "source": [
    "# 뮤터블 시퀀스 원소를 역순으로 정렬\n",
    "\n",
    "from typing import Any, MutableSequence\n",
    "\n",
    "def reverse_array(a:MutableSequence) -> None:\n",
    "    '''뮤터블 시퀀스 a의 원소를 역순으로 정렬'''\n",
    "    n = len(a)\n",
    "    for i in range(n//2):\n",
    "        a[i], a[n-i-1] = a[n-i-1], a[i]\n",
    "        \n",
    "if __name__ == '__main__':\n",
    "    print('배열 원소를 역순으로 정렬합니다')\n",
    "    nx = int(input('원소 수를 입력하세요.: '))\n",
    "    x = [None] * nx # 원소 수가 nx인 리스트를 생성\n",
    "    \n",
    "    for i in range(nx):\n",
    "        x[i] = int(input(f'x[{i}]값을 입력하세요.: '))\n",
    "        \n",
    "    reverse_array(x) # x 역순정렬\n",
    "    \n",
    "    print('배열 원소를 역순으로 정렬했습니다.')\n",
    "    for i in range(nx):\n",
    "        print(f'x[{i}] = {x[i]}')"
   ]
  }
 ],
 "metadata": {
  "kernelspec": {
   "display_name": "Python 3 (ipykernel)",
   "language": "python",
   "name": "python3"
  },
  "language_info": {
   "codemirror_mode": {
    "name": "ipython",
    "version": 3
   },
   "file_extension": ".py",
   "mimetype": "text/x-python",
   "name": "python",
   "nbconvert_exporter": "python",
   "pygments_lexer": "ipython3",
   "version": "3.9.7"
  }
 },
 "nbformat": 4,
 "nbformat_minor": 5
}
